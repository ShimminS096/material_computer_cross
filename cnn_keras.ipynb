{
  "nbformat": 4,
  "nbformat_minor": 0,
  "metadata": {
    "colab": {
      "provenance": []
    },
    "kernelspec": {
      "name": "python3",
      "display_name": "Python 3"
    },
    "language_info": {
      "name": "python"
    }
  },
  "cells": [
    {
      "cell_type": "markdown",
      "source": [
        "# 1. Data loading & Dataset setting\n",
        "\n"
      ],
      "metadata": {
        "id": "5btH_X9RE1wc"
      }
    },
    {
      "cell_type": "markdown",
      "source": [
        "  1-1. Load dataset"
      ],
      "metadata": {
        "id": "3vx8-FFdCuLR"
      }
    },
    {
      "cell_type": "code",
      "execution_count": 2,
      "metadata": {
        "colab": {
          "base_uri": "https://localhost:8080/"
        },
        "id": "OusDHkn9EzaC",
        "outputId": "245dc00f-0e75-4c9e-f8d2-b9cb20291d8c"
      },
      "outputs": [
        {
          "output_type": "stream",
          "name": "stdout",
          "text": [
            "2.15.0\n"
          ]
        }
      ],
      "source": [
        "import tensorflow as tf\n",
        "from keras import optimizers\n",
        "from keras.models import Sequential\n",
        "from keras.layers import Dense, LSTM, BatchNormalization, Conv1D, MaxPooling1D, Dropout, Flatten, Activation\n",
        "from sklearn.model_selection import KFold\n",
        "print(tf.__version__)\n",
        "\n",
        "import pandas as pd\n",
        "import numpy as np\n",
        "from numpy import *\n",
        "from sklearn import svm\n",
        "from scipy.stats import randint, uniform\n",
        "from sklearn.feature_selection import SelectKBest, f_regression, f_classif\n",
        "from sklearn.model_selection import train_test_split\n",
        "from sklearn.ensemble import RandomForestClassifier\n",
        "from lightgbm import LGBMClassifier\n",
        "from sklearn.ensemble import  GradientBoostingClassifier\n",
        "from sklearn.ensemble import VotingClassifier\n",
        "from sklearn.metrics import classification_report,roc_auc_score\n",
        "from sklearn.model_selection import RandomizedSearchCV\n",
        "from sklearn.pipeline import make_pipeline\n",
        "\n",
        "# Load dataset\n",
        "dataset = np.load('Filtered_Dataset.npz')['dataset']\n",
        "dataset = pd.DataFrame(dataset)\n",
        "\n",
        "# Load dataset (Label)\n",
        "dataset_column_names = [str(i) for i in range(301)]\n",
        "label_column_names = ['index', 'Data_Num', 'Vth', 'Mobility', 'S-Slope', 'On/Off']\n",
        "uploaded_dataset_label_path = 'Ground Truth.csv'\n",
        "label_dataset = pd.read_csv(uploaded_dataset_label_path, names = label_column_names, na_values=\"?\", comment='\\t', skipinitialspace=True)\n",
        "\n",
        "# Delete unused columns from array\n",
        "label_dataset.drop('Data_Num', axis=1, inplace=True)\n",
        "label_dataset.drop('index', axis=1, inplace=True)\n"
      ]
    },
    {
      "cell_type": "markdown",
      "source": [],
      "metadata": {
        "id": "MtkSTpK_GsME"
      }
    },
    {
      "cell_type": "markdown",
      "source": [
        "1-2. Setting input data"
      ],
      "metadata": {
        "id": "oLcJpBqXCmk9"
      }
    },
    {
      "cell_type": "markdown",
      "source": [
        "a. Mobility"
      ],
      "metadata": {
        "id": "3EME8VugYN0d"
      }
    },
    {
      "cell_type": "code",
      "source": [
        "# Make One-hot Vector label data\n",
        "# Split 'Mobility' column from label_dataset(Vth, Mobility, SS, On/Off)\n",
        "label_mobility = label_dataset['Mobility'].copy()\n",
        "label_mobility = label_mobility.drop(0)\n",
        "label_mobility = label_mobility.reset_index(drop=True)\n",
        "label_mobility = label_mobility.astype(float)\n",
        "\n",
        "# Make dataset used for model [ measured feature (idx:0~300) | mobility (idx:301)]\n",
        "dataset = pd.concat([dataset, label_mobility], axis=1)\n",
        "\n",
        "# train용 / test용 데이터 분할\n",
        "train_dataset = dataset.sample(frac=0.8) # train_dataset을 같게 뽑으려면 dataset.sample(frac=0.8, random_state=0)로 수정하면 됩니다\n",
        "test_dataset = dataset.drop(train_dataset.index)\n",
        "\n",
        "train_labels = train_dataset.pop('Mobility')\n",
        "test_labels = test_dataset.pop('Mobility')"
      ],
      "metadata": {
        "id": "pwdqwNMuCp_s"
      },
      "execution_count": 3,
      "outputs": []
    },
    {
      "cell_type": "markdown",
      "source": [
        "b. Vth"
      ],
      "metadata": {
        "id": "cJx0oJXZYRnK"
      }
    },
    {
      "cell_type": "code",
      "source": [
        "# # Split 'Vth' column from label_dataset(Vth, Mobility, SS, On/Off)\n",
        "# label_Vth = label_dataset['Vth'].copy()\n",
        "# label_Vth = label_Vth.drop(0)\n",
        "# label_Vth = label_Vth.reset_index(drop=True)\n",
        "# label_Vth = label_Vth.astype(float)\n",
        "\n",
        "\n",
        "# # Make dataset used for model [ measured feature (idx:0~300) | Vth (idx:301)]\n",
        "# dataset = pd.concat([dataset, label_Vth], axis=1)\n",
        "# train_dataset = dataset.sample(frac=0.8,random_state=0)\n",
        "# test_dataset = dataset.drop(train_dataset.index)\n",
        "\n",
        "# train_labels = train_dataset.pop('Vth')\n",
        "# test_labels = test_dataset.pop('Vth')"
      ],
      "metadata": {
        "id": "BP9UiEHjqNOz"
      },
      "execution_count": 4,
      "outputs": []
    },
    {
      "cell_type": "markdown",
      "source": [
        "c. SS"
      ],
      "metadata": {
        "id": "WdCzexXVYWR8"
      }
    },
    {
      "cell_type": "code",
      "source": [
        "# # Split 'SS' column from label_dataset(Vth, Mobility, SS, On/Off)\n",
        "# label_SS = label_dataset['S-Slope'].copy()\n",
        "# label_SS = label_SS.drop(0)\n",
        "# label_SS = label_SS.reset_index(drop=True)\n",
        "# label_SS = label_SS.astype(float)\n",
        "\n",
        "\n",
        "# # Make dataset used for model [ measured feature (idx:0~300) | SS (idx:301)]\n",
        "# dataset = pd.concat([dataset, label_SS], axis=1)\n",
        "# train_dataset = dataset.sample(frac=0.8,random_state=0)\n",
        "# test_dataset = dataset.drop(train_dataset.index)\n",
        "\n",
        "# train_labels = train_dataset.pop('S-Slope')\n",
        "# test_labels = test_dataset.pop('S-Slope')\n"
      ],
      "metadata": {
        "id": "jOpHK4viqNG7"
      },
      "execution_count": null,
      "outputs": []
    },
    {
      "cell_type": "markdown",
      "source": [
        "d. On/Off"
      ],
      "metadata": {
        "id": "02b5nKwOYYX-"
      }
    },
    {
      "cell_type": "code",
      "source": [
        "# # Split 'On/Off' column from label_dataset(Vth, Mobility, SS, On/Off)\n",
        "# label_OnOff = label_dataset['On/Off'].copy()\n",
        "# label_OnOff = label_OnOff.drop(0)\n",
        "# label_OnOff = label_OnOff.reset_index(drop=True)\n",
        "# label_OnOff = label_OnOff.astype(float)\n",
        "\n",
        "\n",
        "# # Make dataset used for model [ measured feature (idx:0~300) | SS (idx:301)]\n",
        "# dataset = pd.concat([dataset, label_OnOff], axis=1)\n",
        "# train_dataset = dataset.sample(frac=0.8,random_state=0)\n",
        "# test_dataset = dataset.drop(train_dataset.index)\n",
        "\n",
        "# train_labels = train_dataset.pop('On/Off')\n",
        "# test_labels = test_dataset.pop('On/Off')\n"
      ],
      "metadata": {
        "id": "DyrQKc5kqM4S"
      },
      "execution_count": null,
      "outputs": []
    },
    {
      "cell_type": "markdown",
      "source": [
        "1-3. Visualize input data"
      ],
      "metadata": {
        "id": "lvlW3JwFDAzI"
      }
    },
    {
      "cell_type": "code",
      "source": [
        "# VIsualize train_dataset\n",
        "# sns.pairplot(train_dataset[[0, 5, 10, 15]], diag_kind=\"kde\")\n",
        "\n",
        "# Statistic feature of train_dataset\n",
        "train_stats = train_dataset.describe()\n",
        "train_stats = train_stats.transpose()\n",
        "train_stats"
      ],
      "metadata": {
        "id": "-oZOXLutDEoV",
        "colab": {
          "base_uri": "https://localhost:8080/",
          "height": 424
        },
        "outputId": "8cf5286b-be9f-4f87-919a-0203556161a2",
        "collapsed": true
      },
      "execution_count": 6,
      "outputs": [
        {
          "output_type": "execute_result",
          "data": {
            "text/plain": [
              "     count          mean           std           min           25%  \\\n",
              "0    319.0  6.838088e-10  1.194986e-08  8.200000e-12  1.210000e-11   \n",
              "1    319.0  5.185047e-11  6.982059e-10  2.700000e-12  1.030000e-11   \n",
              "2    319.0  1.415549e-11  4.433526e-11  2.700000e-12  9.200000e-12   \n",
              "3    319.0  1.098464e-11  5.707111e-12  2.700000e-12  8.600000e-12   \n",
              "4    319.0  1.041567e-11  5.268723e-12  2.700000e-12  8.100000e-12   \n",
              "..     ...           ...           ...           ...           ...   \n",
              "296  319.0  3.526184e-03  3.998846e-04  2.275510e-03  3.221270e-03   \n",
              "297  319.0  3.561948e-03  4.037194e-04  2.297350e-03  3.253490e-03   \n",
              "298  319.0  3.597695e-03  4.077501e-04  2.319210e-03  3.287095e-03   \n",
              "299  319.0  3.633615e-03  4.115583e-04  2.341170e-03  3.320875e-03   \n",
              "300  319.0  3.669496e-03  4.155628e-04  2.362980e-03  3.354230e-03   \n",
              "\n",
              "              50%           75%           max  \n",
              "0    1.370000e-11  1.535000e-11  2.134460e-07  \n",
              "1    1.190000e-11  1.350000e-11  1.248260e-08  \n",
              "2    1.090000e-11  1.255000e-11  7.967000e-10  \n",
              "3    1.020000e-11  1.170000e-11  7.440000e-11  \n",
              "4    9.700000e-12  1.125000e-11  6.630000e-11  \n",
              "..            ...           ...           ...  \n",
              "296  3.545550e-03  3.842105e-03  4.456900e-03  \n",
              "297  3.580480e-03  3.881510e-03  4.499320e-03  \n",
              "298  3.617200e-03  3.920855e-03  4.542130e-03  \n",
              "299  3.654680e-03  3.960565e-03  4.584440e-03  \n",
              "300  3.688630e-03  3.999950e-03  4.626950e-03  \n",
              "\n",
              "[301 rows x 8 columns]"
            ],
            "text/html": [
              "\n",
              "  <div id=\"df-8e364daf-3041-422b-8f6b-44fa1316c9db\" class=\"colab-df-container\">\n",
              "    <div>\n",
              "<style scoped>\n",
              "    .dataframe tbody tr th:only-of-type {\n",
              "        vertical-align: middle;\n",
              "    }\n",
              "\n",
              "    .dataframe tbody tr th {\n",
              "        vertical-align: top;\n",
              "    }\n",
              "\n",
              "    .dataframe thead th {\n",
              "        text-align: right;\n",
              "    }\n",
              "</style>\n",
              "<table border=\"1\" class=\"dataframe\">\n",
              "  <thead>\n",
              "    <tr style=\"text-align: right;\">\n",
              "      <th></th>\n",
              "      <th>count</th>\n",
              "      <th>mean</th>\n",
              "      <th>std</th>\n",
              "      <th>min</th>\n",
              "      <th>25%</th>\n",
              "      <th>50%</th>\n",
              "      <th>75%</th>\n",
              "      <th>max</th>\n",
              "    </tr>\n",
              "  </thead>\n",
              "  <tbody>\n",
              "    <tr>\n",
              "      <th>0</th>\n",
              "      <td>319.0</td>\n",
              "      <td>6.838088e-10</td>\n",
              "      <td>1.194986e-08</td>\n",
              "      <td>8.200000e-12</td>\n",
              "      <td>1.210000e-11</td>\n",
              "      <td>1.370000e-11</td>\n",
              "      <td>1.535000e-11</td>\n",
              "      <td>2.134460e-07</td>\n",
              "    </tr>\n",
              "    <tr>\n",
              "      <th>1</th>\n",
              "      <td>319.0</td>\n",
              "      <td>5.185047e-11</td>\n",
              "      <td>6.982059e-10</td>\n",
              "      <td>2.700000e-12</td>\n",
              "      <td>1.030000e-11</td>\n",
              "      <td>1.190000e-11</td>\n",
              "      <td>1.350000e-11</td>\n",
              "      <td>1.248260e-08</td>\n",
              "    </tr>\n",
              "    <tr>\n",
              "      <th>2</th>\n",
              "      <td>319.0</td>\n",
              "      <td>1.415549e-11</td>\n",
              "      <td>4.433526e-11</td>\n",
              "      <td>2.700000e-12</td>\n",
              "      <td>9.200000e-12</td>\n",
              "      <td>1.090000e-11</td>\n",
              "      <td>1.255000e-11</td>\n",
              "      <td>7.967000e-10</td>\n",
              "    </tr>\n",
              "    <tr>\n",
              "      <th>3</th>\n",
              "      <td>319.0</td>\n",
              "      <td>1.098464e-11</td>\n",
              "      <td>5.707111e-12</td>\n",
              "      <td>2.700000e-12</td>\n",
              "      <td>8.600000e-12</td>\n",
              "      <td>1.020000e-11</td>\n",
              "      <td>1.170000e-11</td>\n",
              "      <td>7.440000e-11</td>\n",
              "    </tr>\n",
              "    <tr>\n",
              "      <th>4</th>\n",
              "      <td>319.0</td>\n",
              "      <td>1.041567e-11</td>\n",
              "      <td>5.268723e-12</td>\n",
              "      <td>2.700000e-12</td>\n",
              "      <td>8.100000e-12</td>\n",
              "      <td>9.700000e-12</td>\n",
              "      <td>1.125000e-11</td>\n",
              "      <td>6.630000e-11</td>\n",
              "    </tr>\n",
              "    <tr>\n",
              "      <th>...</th>\n",
              "      <td>...</td>\n",
              "      <td>...</td>\n",
              "      <td>...</td>\n",
              "      <td>...</td>\n",
              "      <td>...</td>\n",
              "      <td>...</td>\n",
              "      <td>...</td>\n",
              "      <td>...</td>\n",
              "    </tr>\n",
              "    <tr>\n",
              "      <th>296</th>\n",
              "      <td>319.0</td>\n",
              "      <td>3.526184e-03</td>\n",
              "      <td>3.998846e-04</td>\n",
              "      <td>2.275510e-03</td>\n",
              "      <td>3.221270e-03</td>\n",
              "      <td>3.545550e-03</td>\n",
              "      <td>3.842105e-03</td>\n",
              "      <td>4.456900e-03</td>\n",
              "    </tr>\n",
              "    <tr>\n",
              "      <th>297</th>\n",
              "      <td>319.0</td>\n",
              "      <td>3.561948e-03</td>\n",
              "      <td>4.037194e-04</td>\n",
              "      <td>2.297350e-03</td>\n",
              "      <td>3.253490e-03</td>\n",
              "      <td>3.580480e-03</td>\n",
              "      <td>3.881510e-03</td>\n",
              "      <td>4.499320e-03</td>\n",
              "    </tr>\n",
              "    <tr>\n",
              "      <th>298</th>\n",
              "      <td>319.0</td>\n",
              "      <td>3.597695e-03</td>\n",
              "      <td>4.077501e-04</td>\n",
              "      <td>2.319210e-03</td>\n",
              "      <td>3.287095e-03</td>\n",
              "      <td>3.617200e-03</td>\n",
              "      <td>3.920855e-03</td>\n",
              "      <td>4.542130e-03</td>\n",
              "    </tr>\n",
              "    <tr>\n",
              "      <th>299</th>\n",
              "      <td>319.0</td>\n",
              "      <td>3.633615e-03</td>\n",
              "      <td>4.115583e-04</td>\n",
              "      <td>2.341170e-03</td>\n",
              "      <td>3.320875e-03</td>\n",
              "      <td>3.654680e-03</td>\n",
              "      <td>3.960565e-03</td>\n",
              "      <td>4.584440e-03</td>\n",
              "    </tr>\n",
              "    <tr>\n",
              "      <th>300</th>\n",
              "      <td>319.0</td>\n",
              "      <td>3.669496e-03</td>\n",
              "      <td>4.155628e-04</td>\n",
              "      <td>2.362980e-03</td>\n",
              "      <td>3.354230e-03</td>\n",
              "      <td>3.688630e-03</td>\n",
              "      <td>3.999950e-03</td>\n",
              "      <td>4.626950e-03</td>\n",
              "    </tr>\n",
              "  </tbody>\n",
              "</table>\n",
              "<p>301 rows × 8 columns</p>\n",
              "</div>\n",
              "    <div class=\"colab-df-buttons\">\n",
              "\n",
              "  <div class=\"colab-df-container\">\n",
              "    <button class=\"colab-df-convert\" onclick=\"convertToInteractive('df-8e364daf-3041-422b-8f6b-44fa1316c9db')\"\n",
              "            title=\"Convert this dataframe to an interactive table.\"\n",
              "            style=\"display:none;\">\n",
              "\n",
              "  <svg xmlns=\"http://www.w3.org/2000/svg\" height=\"24px\" viewBox=\"0 -960 960 960\">\n",
              "    <path d=\"M120-120v-720h720v720H120Zm60-500h600v-160H180v160Zm220 220h160v-160H400v160Zm0 220h160v-160H400v160ZM180-400h160v-160H180v160Zm440 0h160v-160H620v160ZM180-180h160v-160H180v160Zm440 0h160v-160H620v160Z\"/>\n",
              "  </svg>\n",
              "    </button>\n",
              "\n",
              "  <style>\n",
              "    .colab-df-container {\n",
              "      display:flex;\n",
              "      gap: 12px;\n",
              "    }\n",
              "\n",
              "    .colab-df-convert {\n",
              "      background-color: #E8F0FE;\n",
              "      border: none;\n",
              "      border-radius: 50%;\n",
              "      cursor: pointer;\n",
              "      display: none;\n",
              "      fill: #1967D2;\n",
              "      height: 32px;\n",
              "      padding: 0 0 0 0;\n",
              "      width: 32px;\n",
              "    }\n",
              "\n",
              "    .colab-df-convert:hover {\n",
              "      background-color: #E2EBFA;\n",
              "      box-shadow: 0px 1px 2px rgba(60, 64, 67, 0.3), 0px 1px 3px 1px rgba(60, 64, 67, 0.15);\n",
              "      fill: #174EA6;\n",
              "    }\n",
              "\n",
              "    .colab-df-buttons div {\n",
              "      margin-bottom: 4px;\n",
              "    }\n",
              "\n",
              "    [theme=dark] .colab-df-convert {\n",
              "      background-color: #3B4455;\n",
              "      fill: #D2E3FC;\n",
              "    }\n",
              "\n",
              "    [theme=dark] .colab-df-convert:hover {\n",
              "      background-color: #434B5C;\n",
              "      box-shadow: 0px 1px 3px 1px rgba(0, 0, 0, 0.15);\n",
              "      filter: drop-shadow(0px 1px 2px rgba(0, 0, 0, 0.3));\n",
              "      fill: #FFFFFF;\n",
              "    }\n",
              "  </style>\n",
              "\n",
              "    <script>\n",
              "      const buttonEl =\n",
              "        document.querySelector('#df-8e364daf-3041-422b-8f6b-44fa1316c9db button.colab-df-convert');\n",
              "      buttonEl.style.display =\n",
              "        google.colab.kernel.accessAllowed ? 'block' : 'none';\n",
              "\n",
              "      async function convertToInteractive(key) {\n",
              "        const element = document.querySelector('#df-8e364daf-3041-422b-8f6b-44fa1316c9db');\n",
              "        const dataTable =\n",
              "          await google.colab.kernel.invokeFunction('convertToInteractive',\n",
              "                                                    [key], {});\n",
              "        if (!dataTable) return;\n",
              "\n",
              "        const docLinkHtml = 'Like what you see? Visit the ' +\n",
              "          '<a target=\"_blank\" href=https://colab.research.google.com/notebooks/data_table.ipynb>data table notebook</a>'\n",
              "          + ' to learn more about interactive tables.';\n",
              "        element.innerHTML = '';\n",
              "        dataTable['output_type'] = 'display_data';\n",
              "        await google.colab.output.renderOutput(dataTable, element);\n",
              "        const docLink = document.createElement('div');\n",
              "        docLink.innerHTML = docLinkHtml;\n",
              "        element.appendChild(docLink);\n",
              "      }\n",
              "    </script>\n",
              "  </div>\n",
              "\n",
              "\n",
              "<div id=\"df-333a101f-64c2-43f6-bf46-8992e7a5bfb9\">\n",
              "  <button class=\"colab-df-quickchart\" onclick=\"quickchart('df-333a101f-64c2-43f6-bf46-8992e7a5bfb9')\"\n",
              "            title=\"Suggest charts\"\n",
              "            style=\"display:none;\">\n",
              "\n",
              "<svg xmlns=\"http://www.w3.org/2000/svg\" height=\"24px\"viewBox=\"0 0 24 24\"\n",
              "     width=\"24px\">\n",
              "    <g>\n",
              "        <path d=\"M19 3H5c-1.1 0-2 .9-2 2v14c0 1.1.9 2 2 2h14c1.1 0 2-.9 2-2V5c0-1.1-.9-2-2-2zM9 17H7v-7h2v7zm4 0h-2V7h2v10zm4 0h-2v-4h2v4z\"/>\n",
              "    </g>\n",
              "</svg>\n",
              "  </button>\n",
              "\n",
              "<style>\n",
              "  .colab-df-quickchart {\n",
              "      --bg-color: #E8F0FE;\n",
              "      --fill-color: #1967D2;\n",
              "      --hover-bg-color: #E2EBFA;\n",
              "      --hover-fill-color: #174EA6;\n",
              "      --disabled-fill-color: #AAA;\n",
              "      --disabled-bg-color: #DDD;\n",
              "  }\n",
              "\n",
              "  [theme=dark] .colab-df-quickchart {\n",
              "      --bg-color: #3B4455;\n",
              "      --fill-color: #D2E3FC;\n",
              "      --hover-bg-color: #434B5C;\n",
              "      --hover-fill-color: #FFFFFF;\n",
              "      --disabled-bg-color: #3B4455;\n",
              "      --disabled-fill-color: #666;\n",
              "  }\n",
              "\n",
              "  .colab-df-quickchart {\n",
              "    background-color: var(--bg-color);\n",
              "    border: none;\n",
              "    border-radius: 50%;\n",
              "    cursor: pointer;\n",
              "    display: none;\n",
              "    fill: var(--fill-color);\n",
              "    height: 32px;\n",
              "    padding: 0;\n",
              "    width: 32px;\n",
              "  }\n",
              "\n",
              "  .colab-df-quickchart:hover {\n",
              "    background-color: var(--hover-bg-color);\n",
              "    box-shadow: 0 1px 2px rgba(60, 64, 67, 0.3), 0 1px 3px 1px rgba(60, 64, 67, 0.15);\n",
              "    fill: var(--button-hover-fill-color);\n",
              "  }\n",
              "\n",
              "  .colab-df-quickchart-complete:disabled,\n",
              "  .colab-df-quickchart-complete:disabled:hover {\n",
              "    background-color: var(--disabled-bg-color);\n",
              "    fill: var(--disabled-fill-color);\n",
              "    box-shadow: none;\n",
              "  }\n",
              "\n",
              "  .colab-df-spinner {\n",
              "    border: 2px solid var(--fill-color);\n",
              "    border-color: transparent;\n",
              "    border-bottom-color: var(--fill-color);\n",
              "    animation:\n",
              "      spin 1s steps(1) infinite;\n",
              "  }\n",
              "\n",
              "  @keyframes spin {\n",
              "    0% {\n",
              "      border-color: transparent;\n",
              "      border-bottom-color: var(--fill-color);\n",
              "      border-left-color: var(--fill-color);\n",
              "    }\n",
              "    20% {\n",
              "      border-color: transparent;\n",
              "      border-left-color: var(--fill-color);\n",
              "      border-top-color: var(--fill-color);\n",
              "    }\n",
              "    30% {\n",
              "      border-color: transparent;\n",
              "      border-left-color: var(--fill-color);\n",
              "      border-top-color: var(--fill-color);\n",
              "      border-right-color: var(--fill-color);\n",
              "    }\n",
              "    40% {\n",
              "      border-color: transparent;\n",
              "      border-right-color: var(--fill-color);\n",
              "      border-top-color: var(--fill-color);\n",
              "    }\n",
              "    60% {\n",
              "      border-color: transparent;\n",
              "      border-right-color: var(--fill-color);\n",
              "    }\n",
              "    80% {\n",
              "      border-color: transparent;\n",
              "      border-right-color: var(--fill-color);\n",
              "      border-bottom-color: var(--fill-color);\n",
              "    }\n",
              "    90% {\n",
              "      border-color: transparent;\n",
              "      border-bottom-color: var(--fill-color);\n",
              "    }\n",
              "  }\n",
              "</style>\n",
              "\n",
              "  <script>\n",
              "    async function quickchart(key) {\n",
              "      const quickchartButtonEl =\n",
              "        document.querySelector('#' + key + ' button');\n",
              "      quickchartButtonEl.disabled = true;  // To prevent multiple clicks.\n",
              "      quickchartButtonEl.classList.add('colab-df-spinner');\n",
              "      try {\n",
              "        const charts = await google.colab.kernel.invokeFunction(\n",
              "            'suggestCharts', [key], {});\n",
              "      } catch (error) {\n",
              "        console.error('Error during call to suggestCharts:', error);\n",
              "      }\n",
              "      quickchartButtonEl.classList.remove('colab-df-spinner');\n",
              "      quickchartButtonEl.classList.add('colab-df-quickchart-complete');\n",
              "    }\n",
              "    (() => {\n",
              "      let quickchartButtonEl =\n",
              "        document.querySelector('#df-333a101f-64c2-43f6-bf46-8992e7a5bfb9 button');\n",
              "      quickchartButtonEl.style.display =\n",
              "        google.colab.kernel.accessAllowed ? 'block' : 'none';\n",
              "    })();\n",
              "  </script>\n",
              "</div>\n",
              "    </div>\n",
              "  </div>\n"
            ],
            "application/vnd.google.colaboratory.intrinsic+json": {
              "type": "dataframe",
              "variable_name": "train_stats",
              "summary": "{\n  \"name\": \"train_stats\",\n  \"rows\": 301,\n  \"fields\": [\n    {\n      \"column\": \"count\",\n      \"properties\": {\n        \"dtype\": \"number\",\n        \"std\": 0.0,\n        \"min\": 319.0,\n        \"max\": 319.0,\n        \"num_unique_values\": 1,\n        \"samples\": [\n          319.0\n        ],\n        \"semantic_type\": \"\",\n        \"description\": \"\"\n      }\n    },\n    {\n      \"column\": \"mean\",\n      \"properties\": {\n        \"dtype\": \"number\",\n        \"std\": 0.0010652466965431146,\n        \"min\": 6.766457680250788e-12,\n        \"max\": 0.003669495736677116,\n        \"num_unique_values\": 301,\n        \"samples\": [\n          0.0003578202695924765\n        ],\n        \"semantic_type\": \"\",\n        \"description\": \"\"\n      }\n    },\n    {\n      \"column\": \"std\",\n      \"properties\": {\n        \"dtype\": \"number\",\n        \"std\": 0.00012220080355010998,\n        \"min\": 4.152851875892189e-12,\n        \"max\": 0.0004155628186360159,\n        \"num_unique_values\": 301,\n        \"samples\": [\n          5.5149402288818004e-05\n        ],\n        \"semantic_type\": \"\",\n        \"description\": \"\"\n      }\n    },\n    {\n      \"column\": \"min\",\n      \"properties\": {\n        \"dtype\": \"number\",\n        \"std\": 0.0006953117425090849,\n        \"min\": 4.999999999999999e-13,\n        \"max\": 0.0023629799999999998,\n        \"num_unique_values\": 215,\n        \"samples\": [\n          0.0020583\n        ],\n        \"semantic_type\": \"\",\n        \"description\": \"\"\n      }\n    },\n    {\n      \"column\": \"25%\",\n      \"properties\": {\n        \"dtype\": \"number\",\n        \"std\": 0.000974553698162857,\n        \"min\": 4.500000000000003e-12,\n        \"max\": 0.0033542300000000006,\n        \"num_unique_values\": 239,\n        \"samples\": [\n          5.150000000000004e-12\n        ],\n        \"semantic_type\": \"\",\n        \"description\": \"\"\n      }\n    },\n    {\n      \"column\": \"50%\",\n      \"properties\": {\n        \"dtype\": \"number\",\n        \"std\": 0.0010664321360906884,\n        \"min\": 6.000000000000003e-12,\n        \"max\": 0.003688629999999999,\n        \"num_unique_values\": 230,\n        \"samples\": [\n          0.0032549600000000003\n        ],\n        \"semantic_type\": \"\",\n        \"description\": \"\"\n      }\n    },\n    {\n      \"column\": \"75%\",\n      \"properties\": {\n        \"dtype\": \"number\",\n        \"std\": 0.0011605987500756226,\n        \"min\": 7.650000000000004e-12,\n        \"max\": 0.00399995,\n        \"num_unique_values\": 238,\n        \"samples\": [\n          0.0004035244999999999\n        ],\n        \"semantic_type\": \"\",\n        \"description\": \"\"\n      }\n    },\n    {\n      \"column\": \"max\",\n      \"properties\": {\n        \"dtype\": \"number\",\n        \"std\": 0.0013607979442069066,\n        \"min\": 4.2100000000000086e-11,\n        \"max\": 0.004626949999999999,\n        \"num_unique_values\": 258,\n        \"samples\": [\n          4.171339999999995e-06\n        ],\n        \"semantic_type\": \"\",\n        \"description\": \"\"\n      }\n    }\n  ]\n}"
            }
          },
          "metadata": {},
          "execution_count": 6
        }
      ]
    },
    {
      "cell_type": "markdown",
      "source": [
        "1-4. Split train data, train data's label, test data, test data's label"
      ],
      "metadata": {
        "id": "smncVcQDDJjq"
      }
    },
    {
      "cell_type": "code",
      "source": [
        "# Detach the column from train_dataset & test_dataset\n",
        "\n",
        "# Data Normalization\n",
        "def norm(x):\n",
        "  return (x - train_stats['mean']) / train_stats['std']\n",
        "normed_train_data = norm(train_dataset)\n",
        "normed_test_data = norm(test_dataset)"
      ],
      "metadata": {
        "id": "oNQthgiLDU5E"
      },
      "execution_count": 7,
      "outputs": []
    },
    {
      "cell_type": "markdown",
      "source": [
        "\n",
        "\n",
        "---\n",
        "\n"
      ],
      "metadata": {
        "id": "_m-cuqOgFzV3"
      }
    },
    {
      "cell_type": "markdown",
      "source": [
        "# 2. Construct CNN structure"
      ],
      "metadata": {
        "id": "dWiaw2jtHd_6"
      }
    },
    {
      "cell_type": "code",
      "source": [
        "def cnn_model():\n",
        "  model = Sequential([\n",
        "      Conv1D(filters=32, kernel_size=3, activation='relu', input_shape=(301, 1)),\n",
        "      MaxPooling1D(pool_size=2),\n",
        "      Conv1D(filters=64, kernel_size=3, activation='relu'),\n",
        "      MaxPooling1D(pool_size=2),\n",
        "      Flatten(),\n",
        "      Dense(128, activation='relu'),\n",
        "      Dense(1)\n",
        "  ])\n",
        "  return model\n",
        "\n",
        "model = cnn_model()\n",
        "\n",
        "model.compile(loss='mse',\n",
        "                optimizer='adam',\n",
        "                metrics=['mae', 'mse'])\n",
        "\n",
        "model.summary()"
      ],
      "metadata": {
        "colab": {
          "base_uri": "https://localhost:8080/"
        },
        "id": "_jd18CQ9HgEi",
        "outputId": "52a6d1e3-f1dd-4701-a3c0-3b5b738683c4"
      },
      "execution_count": 8,
      "outputs": [
        {
          "output_type": "stream",
          "name": "stdout",
          "text": [
            "Model: \"sequential\"\n",
            "_________________________________________________________________\n",
            " Layer (type)                Output Shape              Param #   \n",
            "=================================================================\n",
            " conv1d (Conv1D)             (None, 299, 32)           128       \n",
            "                                                                 \n",
            " max_pooling1d (MaxPooling1  (None, 149, 32)           0         \n",
            " D)                                                              \n",
            "                                                                 \n",
            " conv1d_1 (Conv1D)           (None, 147, 64)           6208      \n",
            "                                                                 \n",
            " max_pooling1d_1 (MaxPoolin  (None, 73, 64)            0         \n",
            " g1D)                                                            \n",
            "                                                                 \n",
            " flatten (Flatten)           (None, 4672)              0         \n",
            "                                                                 \n",
            " dense (Dense)               (None, 128)               598144    \n",
            "                                                                 \n",
            " dense_1 (Dense)             (None, 1)                 129       \n",
            "                                                                 \n",
            "=================================================================\n",
            "Total params: 604609 (2.31 MB)\n",
            "Trainable params: 604609 (2.31 MB)\n",
            "Non-trainable params: 0 (0.00 Byte)\n",
            "_________________________________________________________________\n"
          ]
        }
      ]
    },
    {
      "cell_type": "markdown",
      "source": [
        "\n",
        "\n",
        "---\n",
        "\n"
      ],
      "metadata": {
        "id": "TqArGSc-FxcZ"
      }
    },
    {
      "cell_type": "markdown",
      "source": [
        "# 3. train"
      ],
      "metadata": {
        "id": "P4VbbXuuMlCx"
      }
    },
    {
      "cell_type": "code",
      "source": [
        "# 100 Epochs\n",
        "EPOCHS = 100\n",
        "\n",
        "history = model.fit(normed_train_data, train_labels, epochs=EPOCHS, validation_split = 0.2, verbose=0)"
      ],
      "metadata": {
        "id": "6cDKAKbJMkeG"
      },
      "execution_count": 9,
      "outputs": []
    },
    {
      "cell_type": "markdown",
      "source": [
        " 3-1. Visualize model training process"
      ],
      "metadata": {
        "id": "rNv0GhbS0EcA"
      }
    },
    {
      "cell_type": "markdown",
      "source": [],
      "metadata": {
        "id": "GtUukWIbV-YS"
      }
    },
    {
      "cell_type": "code",
      "source": [
        "hist = pd.DataFrame(history.history)\n",
        "hist['epoch'] = history.epoch\n",
        "hist.tail()"
      ],
      "metadata": {
        "colab": {
          "base_uri": "https://localhost:8080/",
          "height": 206
        },
        "id": "i364YcUw0Aex",
        "outputId": "54e8e4fe-0201-4da8-8ceb-d7cf8f23d64f"
      },
      "execution_count": 10,
      "outputs": [
        {
          "output_type": "execute_result",
          "data": {
            "text/plain": [
              "        loss       mae       mse  val_loss   val_mae   val_mse  epoch\n",
              "95  0.825911  0.555657  0.825911  2.566249  1.052052  2.566249     95\n",
              "96  0.757416  0.522064  0.757416  2.455410  0.983810  2.455410     96\n",
              "97  0.761705  0.552556  0.761705  2.426592  0.764364  2.426592     97\n",
              "98  0.734485  0.481904  0.734485  2.559948  0.734630  2.559948     98\n",
              "99  0.746585  0.492500  0.746585  2.438204  0.806125  2.438204     99"
            ],
            "text/html": [
              "\n",
              "  <div id=\"df-98751686-cbd7-408c-84d9-647a7aa0f868\" class=\"colab-df-container\">\n",
              "    <div>\n",
              "<style scoped>\n",
              "    .dataframe tbody tr th:only-of-type {\n",
              "        vertical-align: middle;\n",
              "    }\n",
              "\n",
              "    .dataframe tbody tr th {\n",
              "        vertical-align: top;\n",
              "    }\n",
              "\n",
              "    .dataframe thead th {\n",
              "        text-align: right;\n",
              "    }\n",
              "</style>\n",
              "<table border=\"1\" class=\"dataframe\">\n",
              "  <thead>\n",
              "    <tr style=\"text-align: right;\">\n",
              "      <th></th>\n",
              "      <th>loss</th>\n",
              "      <th>mae</th>\n",
              "      <th>mse</th>\n",
              "      <th>val_loss</th>\n",
              "      <th>val_mae</th>\n",
              "      <th>val_mse</th>\n",
              "      <th>epoch</th>\n",
              "    </tr>\n",
              "  </thead>\n",
              "  <tbody>\n",
              "    <tr>\n",
              "      <th>95</th>\n",
              "      <td>0.825911</td>\n",
              "      <td>0.555657</td>\n",
              "      <td>0.825911</td>\n",
              "      <td>2.566249</td>\n",
              "      <td>1.052052</td>\n",
              "      <td>2.566249</td>\n",
              "      <td>95</td>\n",
              "    </tr>\n",
              "    <tr>\n",
              "      <th>96</th>\n",
              "      <td>0.757416</td>\n",
              "      <td>0.522064</td>\n",
              "      <td>0.757416</td>\n",
              "      <td>2.455410</td>\n",
              "      <td>0.983810</td>\n",
              "      <td>2.455410</td>\n",
              "      <td>96</td>\n",
              "    </tr>\n",
              "    <tr>\n",
              "      <th>97</th>\n",
              "      <td>0.761705</td>\n",
              "      <td>0.552556</td>\n",
              "      <td>0.761705</td>\n",
              "      <td>2.426592</td>\n",
              "      <td>0.764364</td>\n",
              "      <td>2.426592</td>\n",
              "      <td>97</td>\n",
              "    </tr>\n",
              "    <tr>\n",
              "      <th>98</th>\n",
              "      <td>0.734485</td>\n",
              "      <td>0.481904</td>\n",
              "      <td>0.734485</td>\n",
              "      <td>2.559948</td>\n",
              "      <td>0.734630</td>\n",
              "      <td>2.559948</td>\n",
              "      <td>98</td>\n",
              "    </tr>\n",
              "    <tr>\n",
              "      <th>99</th>\n",
              "      <td>0.746585</td>\n",
              "      <td>0.492500</td>\n",
              "      <td>0.746585</td>\n",
              "      <td>2.438204</td>\n",
              "      <td>0.806125</td>\n",
              "      <td>2.438204</td>\n",
              "      <td>99</td>\n",
              "    </tr>\n",
              "  </tbody>\n",
              "</table>\n",
              "</div>\n",
              "    <div class=\"colab-df-buttons\">\n",
              "\n",
              "  <div class=\"colab-df-container\">\n",
              "    <button class=\"colab-df-convert\" onclick=\"convertToInteractive('df-98751686-cbd7-408c-84d9-647a7aa0f868')\"\n",
              "            title=\"Convert this dataframe to an interactive table.\"\n",
              "            style=\"display:none;\">\n",
              "\n",
              "  <svg xmlns=\"http://www.w3.org/2000/svg\" height=\"24px\" viewBox=\"0 -960 960 960\">\n",
              "    <path d=\"M120-120v-720h720v720H120Zm60-500h600v-160H180v160Zm220 220h160v-160H400v160Zm0 220h160v-160H400v160ZM180-400h160v-160H180v160Zm440 0h160v-160H620v160ZM180-180h160v-160H180v160Zm440 0h160v-160H620v160Z\"/>\n",
              "  </svg>\n",
              "    </button>\n",
              "\n",
              "  <style>\n",
              "    .colab-df-container {\n",
              "      display:flex;\n",
              "      gap: 12px;\n",
              "    }\n",
              "\n",
              "    .colab-df-convert {\n",
              "      background-color: #E8F0FE;\n",
              "      border: none;\n",
              "      border-radius: 50%;\n",
              "      cursor: pointer;\n",
              "      display: none;\n",
              "      fill: #1967D2;\n",
              "      height: 32px;\n",
              "      padding: 0 0 0 0;\n",
              "      width: 32px;\n",
              "    }\n",
              "\n",
              "    .colab-df-convert:hover {\n",
              "      background-color: #E2EBFA;\n",
              "      box-shadow: 0px 1px 2px rgba(60, 64, 67, 0.3), 0px 1px 3px 1px rgba(60, 64, 67, 0.15);\n",
              "      fill: #174EA6;\n",
              "    }\n",
              "\n",
              "    .colab-df-buttons div {\n",
              "      margin-bottom: 4px;\n",
              "    }\n",
              "\n",
              "    [theme=dark] .colab-df-convert {\n",
              "      background-color: #3B4455;\n",
              "      fill: #D2E3FC;\n",
              "    }\n",
              "\n",
              "    [theme=dark] .colab-df-convert:hover {\n",
              "      background-color: #434B5C;\n",
              "      box-shadow: 0px 1px 3px 1px rgba(0, 0, 0, 0.15);\n",
              "      filter: drop-shadow(0px 1px 2px rgba(0, 0, 0, 0.3));\n",
              "      fill: #FFFFFF;\n",
              "    }\n",
              "  </style>\n",
              "\n",
              "    <script>\n",
              "      const buttonEl =\n",
              "        document.querySelector('#df-98751686-cbd7-408c-84d9-647a7aa0f868 button.colab-df-convert');\n",
              "      buttonEl.style.display =\n",
              "        google.colab.kernel.accessAllowed ? 'block' : 'none';\n",
              "\n",
              "      async function convertToInteractive(key) {\n",
              "        const element = document.querySelector('#df-98751686-cbd7-408c-84d9-647a7aa0f868');\n",
              "        const dataTable =\n",
              "          await google.colab.kernel.invokeFunction('convertToInteractive',\n",
              "                                                    [key], {});\n",
              "        if (!dataTable) return;\n",
              "\n",
              "        const docLinkHtml = 'Like what you see? Visit the ' +\n",
              "          '<a target=\"_blank\" href=https://colab.research.google.com/notebooks/data_table.ipynb>data table notebook</a>'\n",
              "          + ' to learn more about interactive tables.';\n",
              "        element.innerHTML = '';\n",
              "        dataTable['output_type'] = 'display_data';\n",
              "        await google.colab.output.renderOutput(dataTable, element);\n",
              "        const docLink = document.createElement('div');\n",
              "        docLink.innerHTML = docLinkHtml;\n",
              "        element.appendChild(docLink);\n",
              "      }\n",
              "    </script>\n",
              "  </div>\n",
              "\n",
              "\n",
              "<div id=\"df-c13cb12c-2ecb-4039-b342-3d30e3802de6\">\n",
              "  <button class=\"colab-df-quickchart\" onclick=\"quickchart('df-c13cb12c-2ecb-4039-b342-3d30e3802de6')\"\n",
              "            title=\"Suggest charts\"\n",
              "            style=\"display:none;\">\n",
              "\n",
              "<svg xmlns=\"http://www.w3.org/2000/svg\" height=\"24px\"viewBox=\"0 0 24 24\"\n",
              "     width=\"24px\">\n",
              "    <g>\n",
              "        <path d=\"M19 3H5c-1.1 0-2 .9-2 2v14c0 1.1.9 2 2 2h14c1.1 0 2-.9 2-2V5c0-1.1-.9-2-2-2zM9 17H7v-7h2v7zm4 0h-2V7h2v10zm4 0h-2v-4h2v4z\"/>\n",
              "    </g>\n",
              "</svg>\n",
              "  </button>\n",
              "\n",
              "<style>\n",
              "  .colab-df-quickchart {\n",
              "      --bg-color: #E8F0FE;\n",
              "      --fill-color: #1967D2;\n",
              "      --hover-bg-color: #E2EBFA;\n",
              "      --hover-fill-color: #174EA6;\n",
              "      --disabled-fill-color: #AAA;\n",
              "      --disabled-bg-color: #DDD;\n",
              "  }\n",
              "\n",
              "  [theme=dark] .colab-df-quickchart {\n",
              "      --bg-color: #3B4455;\n",
              "      --fill-color: #D2E3FC;\n",
              "      --hover-bg-color: #434B5C;\n",
              "      --hover-fill-color: #FFFFFF;\n",
              "      --disabled-bg-color: #3B4455;\n",
              "      --disabled-fill-color: #666;\n",
              "  }\n",
              "\n",
              "  .colab-df-quickchart {\n",
              "    background-color: var(--bg-color);\n",
              "    border: none;\n",
              "    border-radius: 50%;\n",
              "    cursor: pointer;\n",
              "    display: none;\n",
              "    fill: var(--fill-color);\n",
              "    height: 32px;\n",
              "    padding: 0;\n",
              "    width: 32px;\n",
              "  }\n",
              "\n",
              "  .colab-df-quickchart:hover {\n",
              "    background-color: var(--hover-bg-color);\n",
              "    box-shadow: 0 1px 2px rgba(60, 64, 67, 0.3), 0 1px 3px 1px rgba(60, 64, 67, 0.15);\n",
              "    fill: var(--button-hover-fill-color);\n",
              "  }\n",
              "\n",
              "  .colab-df-quickchart-complete:disabled,\n",
              "  .colab-df-quickchart-complete:disabled:hover {\n",
              "    background-color: var(--disabled-bg-color);\n",
              "    fill: var(--disabled-fill-color);\n",
              "    box-shadow: none;\n",
              "  }\n",
              "\n",
              "  .colab-df-spinner {\n",
              "    border: 2px solid var(--fill-color);\n",
              "    border-color: transparent;\n",
              "    border-bottom-color: var(--fill-color);\n",
              "    animation:\n",
              "      spin 1s steps(1) infinite;\n",
              "  }\n",
              "\n",
              "  @keyframes spin {\n",
              "    0% {\n",
              "      border-color: transparent;\n",
              "      border-bottom-color: var(--fill-color);\n",
              "      border-left-color: var(--fill-color);\n",
              "    }\n",
              "    20% {\n",
              "      border-color: transparent;\n",
              "      border-left-color: var(--fill-color);\n",
              "      border-top-color: var(--fill-color);\n",
              "    }\n",
              "    30% {\n",
              "      border-color: transparent;\n",
              "      border-left-color: var(--fill-color);\n",
              "      border-top-color: var(--fill-color);\n",
              "      border-right-color: var(--fill-color);\n",
              "    }\n",
              "    40% {\n",
              "      border-color: transparent;\n",
              "      border-right-color: var(--fill-color);\n",
              "      border-top-color: var(--fill-color);\n",
              "    }\n",
              "    60% {\n",
              "      border-color: transparent;\n",
              "      border-right-color: var(--fill-color);\n",
              "    }\n",
              "    80% {\n",
              "      border-color: transparent;\n",
              "      border-right-color: var(--fill-color);\n",
              "      border-bottom-color: var(--fill-color);\n",
              "    }\n",
              "    90% {\n",
              "      border-color: transparent;\n",
              "      border-bottom-color: var(--fill-color);\n",
              "    }\n",
              "  }\n",
              "</style>\n",
              "\n",
              "  <script>\n",
              "    async function quickchart(key) {\n",
              "      const quickchartButtonEl =\n",
              "        document.querySelector('#' + key + ' button');\n",
              "      quickchartButtonEl.disabled = true;  // To prevent multiple clicks.\n",
              "      quickchartButtonEl.classList.add('colab-df-spinner');\n",
              "      try {\n",
              "        const charts = await google.colab.kernel.invokeFunction(\n",
              "            'suggestCharts', [key], {});\n",
              "      } catch (error) {\n",
              "        console.error('Error during call to suggestCharts:', error);\n",
              "      }\n",
              "      quickchartButtonEl.classList.remove('colab-df-spinner');\n",
              "      quickchartButtonEl.classList.add('colab-df-quickchart-complete');\n",
              "    }\n",
              "    (() => {\n",
              "      let quickchartButtonEl =\n",
              "        document.querySelector('#df-c13cb12c-2ecb-4039-b342-3d30e3802de6 button');\n",
              "      quickchartButtonEl.style.display =\n",
              "        google.colab.kernel.accessAllowed ? 'block' : 'none';\n",
              "    })();\n",
              "  </script>\n",
              "</div>\n",
              "    </div>\n",
              "  </div>\n"
            ],
            "application/vnd.google.colaboratory.intrinsic+json": {
              "type": "dataframe",
              "summary": "{\n  \"name\": \"hist\",\n  \"rows\": 5,\n  \"fields\": [\n    {\n      \"column\": \"loss\",\n      \"properties\": {\n        \"dtype\": \"number\",\n        \"std\": 0.03552670520568108,\n        \"min\": 0.7344847321510315,\n        \"max\": 0.8259111046791077,\n        \"num_unique_values\": 5,\n        \"samples\": [\n          0.7574159502983093,\n          0.7465851306915283,\n          0.7617045044898987\n        ],\n        \"semantic_type\": \"\",\n        \"description\": \"\"\n      }\n    },\n    {\n      \"column\": \"mae\",\n      \"properties\": {\n        \"dtype\": \"number\",\n        \"std\": 0.03368497907712871,\n        \"min\": 0.4819043278694153,\n        \"max\": 0.555656909942627,\n        \"num_unique_values\": 5,\n        \"samples\": [\n          0.5220637321472168,\n          0.4925002455711365,\n          0.5525561571121216\n        ],\n        \"semantic_type\": \"\",\n        \"description\": \"\"\n      }\n    },\n    {\n      \"column\": \"mse\",\n      \"properties\": {\n        \"dtype\": \"number\",\n        \"std\": 0.03552670520568108,\n        \"min\": 0.7344847321510315,\n        \"max\": 0.8259111046791077,\n        \"num_unique_values\": 5,\n        \"samples\": [\n          0.7574159502983093,\n          0.7465851306915283,\n          0.7617045044898987\n        ],\n        \"semantic_type\": \"\",\n        \"description\": \"\"\n      }\n    },\n    {\n      \"column\": \"val_loss\",\n      \"properties\": {\n        \"dtype\": \"number\",\n        \"std\": 0.06819817186062958,\n        \"min\": 2.426591634750366,\n        \"max\": 2.566249132156372,\n        \"num_unique_values\": 5,\n        \"samples\": [\n          2.4554102420806885,\n          2.438204288482666,\n          2.426591634750366\n        ],\n        \"semantic_type\": \"\",\n        \"description\": \"\"\n      }\n    },\n    {\n      \"column\": \"val_mae\",\n      \"properties\": {\n        \"dtype\": \"number\",\n        \"std\": 0.14110615888614056,\n        \"min\": 0.73462975025177,\n        \"max\": 1.0520524978637695,\n        \"num_unique_values\": 5,\n        \"samples\": [\n          0.9838099479675293,\n          0.8061245083808899,\n          0.7643635272979736\n        ],\n        \"semantic_type\": \"\",\n        \"description\": \"\"\n      }\n    },\n    {\n      \"column\": \"val_mse\",\n      \"properties\": {\n        \"dtype\": \"number\",\n        \"std\": 0.06819817186062958,\n        \"min\": 2.426591634750366,\n        \"max\": 2.566249132156372,\n        \"num_unique_values\": 5,\n        \"samples\": [\n          2.4554102420806885,\n          2.438204288482666,\n          2.426591634750366\n        ],\n        \"semantic_type\": \"\",\n        \"description\": \"\"\n      }\n    },\n    {\n      \"column\": \"epoch\",\n      \"properties\": {\n        \"dtype\": \"number\",\n        \"std\": 1,\n        \"min\": 95,\n        \"max\": 99,\n        \"num_unique_values\": 5,\n        \"samples\": [\n          96,\n          99,\n          97\n        ],\n        \"semantic_type\": \"\",\n        \"description\": \"\"\n      }\n    }\n  ]\n}"
            }
          },
          "metadata": {},
          "execution_count": 10
        }
      ]
    },
    {
      "cell_type": "markdown",
      "source": [
        "3-2. Training without EarlyStopping callback"
      ],
      "metadata": {
        "id": "x2te6mVsEioJ"
      }
    },
    {
      "cell_type": "code",
      "source": [
        "import matplotlib.pyplot as plt\n",
        "\n",
        "def plot_history(history):\n",
        "  hist = pd.DataFrame(history.history)\n",
        "  hist['epoch'] = history.epoch\n",
        "\n",
        "  plt.figure(figsize=(10,5))\n",
        "\n",
        "  plt.subplot(1,2,1)\n",
        "  plt.xlabel('Epoch')\n",
        "  plt.ylabel('Mean Abs Error [MPG]')\n",
        "  plt.plot(hist['epoch'], hist['mae'],\n",
        "           label='Train Error')\n",
        "  plt.plot(hist['epoch'], hist['val_mae'],\n",
        "           label = 'Val Error')\n",
        "  plt.ylim([0,5])\n",
        "  plt.legend()\n",
        "\n",
        "  plt.subplot(1,2,2)\n",
        "  plt.xlabel('Epoch')\n",
        "  plt.ylabel('Mean Square Error [$MPG^2$]')\n",
        "  plt.plot(hist['epoch'], hist['mse'],\n",
        "           label='Train Error')\n",
        "  plt.plot(hist['epoch'], hist['val_mse'],\n",
        "           label = 'Val Error')\n",
        "  plt.ylim([0,20])\n",
        "  plt.legend()\n",
        "  plt.show()\n",
        "\n",
        "plot_history(history)"
      ],
      "metadata": {
        "colab": {
          "base_uri": "https://localhost:8080/",
          "height": 470
        },
        "id": "npwioTJ30d6-",
        "outputId": "ce91be2f-bcdc-4829-e2b2-36e98ec0def9"
      },
      "execution_count": 14,
      "outputs": [
        {
          "output_type": "display_data",
          "data": {
            "text/plain": [
              "<Figure size 1000x500 with 2 Axes>"
            ],
            "image/png": "[encoded data removed]"
          },
          "metadata": {}
        }
      ]
    },
    {
      "cell_type": "markdown",
      "source": [
        "\n",
        "\n",
        "---\n",
        "\n"
      ],
      "metadata": {
        "id": "phEdJudIFt9R"
      }
    },
    {
      "cell_type": "markdown",
      "source": [
        "\n",
        "# 5. Test"
      ],
      "metadata": {
        "id": "b7iSH7XvFbjX"
      }
    },
    {
      "cell_type": "code",
      "source": [
        "# For model evaluation, change Pandas(DataFrame) to Numpy with float type\n",
        "normed_test_data_array = normed_test_data.to_numpy().astype(float)\n",
        "loss, mae, mse = model.evaluate(normed_test_data_array, test_labels, verbose=2)\n",
        "\n",
        "print(\"테스트 세트의 평균 절대 오차: {:5.2f} MPG\".format(mae))"
      ],
      "metadata": {
        "colab": {
          "base_uri": "https://localhost:8080/"
        },
        "id": "kYLPahih01kl",
        "outputId": "004ad4c6-bbf9-4321-98e2-b0bbe9e2085b"
      },
      "execution_count": 15,
      "outputs": [
        {
          "output_type": "stream",
          "name": "stdout",
          "text": [
            "3/3 - 0s - loss: 1.0883 - mae: 0.5563 - mse: 1.0883 - 199ms/epoch - 66ms/step\n",
            "테스트 세트의 평균 절대 오차:  0.56 MPG\n"
          ]
        }
      ]
    },
    {
      "cell_type": "markdown",
      "source": [
        "5-1. Visualize Prediction (with test data)"
      ],
      "metadata": {
        "id": "W0ir5nYpFghV"
      }
    },
    {
      "cell_type": "code",
      "source": [
        "test_predictions = model.predict(normed_test_data)\n",
        "plt.scatter(test_labels, test_predictions)\n",
        "\n",
        "print(test_predictions.shape)\n",
        "plt.xlabel('True Values [MPG]')\n",
        "plt.ylabel('Predictions [MPG]')\n",
        "plt.axis('equal')\n",
        "plt.axis('square')\n",
        "plt.xlim([0,plt.xlim()[1]])\n",
        "plt.ylim([0,plt.ylim()[1]])\n",
        "_ = plt.plot([-100, 100], [-100, 100])"
      ],
      "metadata": {
        "colab": {
          "base_uri": "https://localhost:8080/",
          "height": 484
        },
        "id": "44Rb2bWO95oy",
        "outputId": "8a470029-016b-4f97-90e4-bfc2bd331964"
      },
      "execution_count": 16,
      "outputs": [
        {
          "output_type": "stream",
          "name": "stdout",
          "text": [
            "3/3 [==============================] - 0s 9ms/step\n",
            "(80, 1)\n"
          ]
        },
        {
          "output_type": "display_data",
          "data": {
            "text/plain": [
              "<Figure size 640x480 with 1 Axes>"
            ],
            "image/png": "[encoded data removed]"
          },
          "metadata": {}
        }
      ]
    },
    {
      "cell_type": "code",
      "source": [
        "test_predictions = np.array(test_predictions).flatten()\n",
        "test_labels = test_labels.values.flatten()\n",
        "\n",
        "error = test_predictions - test_labels\n",
        "\n",
        "plt.hist(error, bins = 25)\n",
        "plt.xlabel(\"Prediction Error [MPG]\")\n",
        "_ = plt.ylabel(\"Count\")"
      ],
      "metadata": {
        "colab": {
          "base_uri": "https://localhost:8080/",
          "height": 449
        },
        "id": "XKlOZjNu99dv",
        "outputId": "9a205276-6cad-4074-d9ca-773cac25a678"
      },
      "execution_count": 17,
      "outputs": [
        {
          "output_type": "display_data",
          "data": {
            "text/plain": [
              "<Figure size 640x480 with 1 Axes>"
            ],
            "image/png": "[encoded data removed]"
          },
          "metadata": {}
        }
      ]
    }
  ]
}