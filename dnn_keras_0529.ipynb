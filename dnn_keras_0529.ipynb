{
  "cells": [
    {
      "cell_type": "markdown",
      "metadata": {
        "id": "view-in-github",
        "colab_type": "text"
      },
      "source": [
        "<a href=\"https://colab.research.google.com/github/ShimminS096/material_computer_cross/blob/minseo/dnn_keras_0529.ipynb\" target=\"_parent\"><img src=\"https://colab.research.google.com/assets/colab-badge.svg\" alt=\"Open In Colab\"/></a>"
      ]
    },
    {
      "cell_type": "markdown",
      "metadata": {
        "id": "qG2wRCx1XHta"
      },
      "source": [
        "\n",
        "# **Hyperparameter Setting**\n",
        "\n",
        "\n",
        "*   Dataset_Structure : train_dataset(64%)|vaildation_dataset(16%)|test_dataset(20%)\n",
        "*   Dataset_Filename : Filtered_Dataset.npz\n",
        "*   Label_Filename : Ground Truth.csv\n",
        "*   Input_Size : 301\n",
        "*   Hidden_Size : [100, 100, 50]\n",
        "\n",
        "\n",
        "\n",
        "\n",
        "\n",
        "\n",
        "\n"
      ]
    },
    {
      "cell_type": "markdown",
      "metadata": {
        "id": "5btH_X9RE1wc"
      },
      "source": [
        "# 1. Data loading & Dataset setting\n",
        "\n"
      ]
    },
    {
      "cell_type": "markdown",
      "metadata": {
        "id": "3vx8-FFdCuLR"
      },
      "source": [
        "  1-1. Load dataset"
      ]
    },
    {
      "cell_type": "code",
      "execution_count": 288,
      "metadata": {
        "colab": {
          "base_uri": "https://localhost:8080/"
        },
        "id": "OusDHkn9EzaC",
        "outputId": "d1f4fb38-f98c-4e21-f5fa-d266aeeecf87"
      },
      "outputs": [
        {
          "output_type": "stream",
          "name": "stdout",
          "text": [
            "2.15.0\n",
            "Drive already mounted at /content/drive; to attempt to forcibly remount, call drive.mount(\"/content/drive\", force_remount=True).\n"
          ]
        }
      ],
      "source": [
        "import numpy as np\n",
        "import pathlib\n",
        "import os\n",
        "import pandas as pd\n",
        "import seaborn as sns\n",
        "import tensorflow as tf\n",
        "from tensorflow import keras\n",
        "from keras import layers\n",
        "from datetime import datetime\n",
        "print(tf.__version__)\n",
        "\n",
        "from keras.models import Sequential\n",
        "from keras.layers import Dense, Activation\n",
        "from keras.metrics import Accuracy\n",
        "import matplotlib.pyplot as plt\n",
        "from sklearn.model_selection import train_test_split\n",
        "from sklearn.metrics import mean_absolute_error, mean_squared_error, r2_score\n",
        "\n",
        "# For saving hyperparameter of model\n",
        "from google.colab import drive\n",
        "drive.mount('/content/drive')\n",
        "\n",
        "# Google Drive folder dir\n",
        "timestamp = datetime.now().strftime('%Y%m%d_%H%M%S_%f')\n",
        "folder_path = f\"/content/drive/My Drive/DNN_Hyperparameter/'{timestamp}'\"\n",
        "\n",
        "if not os.path.exists(folder_path):\n",
        "    os.makedirs(folder_path)\n",
        "\n",
        "# Making hyperparameter & result data\n",
        "def save_data_to_file(data, folder_path):\n",
        "    # filename -> timestamp\n",
        "    timestamp = datetime.now().strftime('%Y%m%d_%H%M%S_%f')\n",
        "    file_name = f'data_{timestamp}.txt'\n",
        "    file_path = os.path.join(folder_path, file_name)\n",
        "\n",
        "    # txt 파일로 데이터 저장\n",
        "    with open(file_path, 'w') as file:\n",
        "        file.write(data)\n",
        "\n",
        "    print(f\"Data has been saved to {file_path}\")\n",
        "\n",
        "def save_plot_to_file(plot_figure, folder_path):\n",
        "    # 현재 시간으로 파일 이름 생성\n",
        "    timestamp = datetime.now().strftime('%Y%m%d_%H%M%S')\n",
        "    file_name = f'plot_{timestamp}.png'\n",
        "    file_path = os.path.join(folder_path, file_name)\n",
        "\n",
        "    plot_figure.savefig(file_path)\n",
        "    print(f\"Plot has been saved to {file_path}\")\n",
        "\n",
        "#------------------------------------------------------------------------\n",
        "\n",
        "# Load dataset\n",
        "# Convert array type : Numpy -> Pandas(DataFrame)\n",
        "# Delete unused columns from array\n",
        "dataset_column_names = [str(i) for i in range(301)]\n",
        "label_column_names = ['index', 'Data_Num', 'Vth', 'Mobility', 'S-Slope', 'On/Off']\n",
        "uploaded_dataset_label_path = 'Ground Truth.csv'\n",
        "dataset = np.load('Filtered_Dataset.npz')['dataset']\n",
        "dataset = pd.DataFrame(dataset)\n",
        "label_dataset = pd.read_csv(uploaded_dataset_label_path, names = label_column_names,\n",
        "                          na_values=\"?\", comment='\\t', skipinitialspace=True)\n",
        "label_dataset.drop('Data_Num', axis=1, inplace=True)\n",
        "label_dataset.drop('index', axis=1, inplace=True)\n"
      ]
    },
    {
      "cell_type": "markdown",
      "metadata": {
        "id": "Ap29wf-vugQW"
      },
      "source": [
        "Hyperparameter Setting"
      ]
    },
    {
      "cell_type": "code",
      "execution_count": 289,
      "metadata": {
        "id": "mCWVfgc-ui6N"
      },
      "outputs": [],
      "source": [
        "\n",
        "# Setting\n",
        "SELECTED_LABEL = 'On/Off'\n",
        "\n",
        "EPOCHS = 1000\n",
        "BATCH_SIZE = 128\n",
        "RANDOM_STATE = 24\n",
        "\n",
        "OPTIMIZER_NAME = 'adam'\n",
        "LEARNING_RATE = 0.001\n",
        "LOSS_FUNCTION = 'mse'\n",
        "PERFORMANCE = ['mse', 'mae']\n",
        "NORMALIZATION = 'norm_log10'\n",
        "ACTIVATION_FUNCTION = 'relu'\n",
        "PATIENCE = 100\n",
        "\n"
      ]
    },
    {
      "cell_type": "markdown",
      "metadata": {
        "id": "oLcJpBqXCmk9"
      },
      "source": [
        "1-2. Setting input data"
      ]
    },
    {
      "cell_type": "code",
      "execution_count": 290,
      "metadata": {
        "id": "pwdqwNMuCp_s"
      },
      "outputs": [],
      "source": [
        "\n",
        "# Make One-hot Vector label data\n",
        "# Split WANTED label column from label_dataset(Vth, Mobility, SS, On/Off)\n",
        "label = label_dataset[SELECTED_LABEL].copy()\n",
        "label = label.drop(0)\n",
        "label = label.reset_index(drop=True)\n",
        "label = label.astype(float)\n",
        "\n",
        "\n",
        "\n",
        "# Make dataset used for model [ measured feature (idx:0~300) | mobility (idx:301)]\n",
        "dataset = pd.concat([dataset, label], axis=1)\n",
        "train_dataset = dataset.sample(frac=0.8,random_state=RANDOM_STATE)\n",
        "test_dataset = dataset.drop(train_dataset.index)\n"
      ]
    },
    {
      "cell_type": "markdown",
      "metadata": {
        "id": "lvlW3JwFDAzI"
      },
      "source": [
        "1-3. Visualize input data"
      ]
    },
    {
      "cell_type": "code",
      "execution_count": 291,
      "metadata": {
        "colab": {
          "base_uri": "https://localhost:8080/",
          "height": 1000
        },
        "id": "-oZOXLutDEoV",
        "outputId": "b4d46b88-7a3b-4d1d-d7c6-e10c59781293"
      },
      "outputs": [
        {
          "output_type": "execute_result",
          "data": {
            "text/plain": [
              "     count          mean           std           min           25%  \\\n",
              "0    319.0  6.830831e-10  1.194990e-08  8.000000e-12  1.200000e-11   \n",
              "1    319.0  5.117618e-11  6.982215e-10  6.400000e-12  1.020000e-11   \n",
              "2    319.0  1.351411e-11  4.408241e-11  5.400000e-12  9.200000e-12   \n",
              "3    319.0  1.038056e-11  3.316549e-12  4.100000e-12  8.500000e-12   \n",
              "4    319.0  9.866771e-12  2.963408e-12  4.400000e-12  8.000000e-12   \n",
              "..     ...           ...           ...           ...           ...   \n",
              "296  319.0  3.536472e-03  3.862668e-04  2.371390e-03  3.223610e-03   \n",
              "297  319.0  3.572408e-03  3.897917e-04  2.396420e-03  3.256420e-03   \n",
              "298  319.0  3.608347e-03  3.934946e-04  2.417710e-03  3.289355e-03   \n",
              "299  319.0  3.644465e-03  3.970520e-04  2.443580e-03  3.322395e-03   \n",
              "300  319.0  3.680543e-03  4.007619e-04  2.467470e-03  3.355315e-03   \n",
              "\n",
              "              50%           75%           max  \n",
              "0    1.330000e-11  1.500000e-11  2.134460e-07  \n",
              "1    1.180000e-11  1.325000e-11  1.248260e-08  \n",
              "2    1.070000e-11  1.230000e-11  7.967000e-10  \n",
              "3    9.900000e-12  1.140000e-11  3.140000e-11  \n",
              "4    9.500000e-12  1.110000e-11  2.590000e-11  \n",
              "..            ...           ...           ...  \n",
              "296  3.548210e-03  3.843910e-03  4.640530e-03  \n",
              "297  3.585260e-03  3.883210e-03  4.685200e-03  \n",
              "298  3.622060e-03  3.922505e-03  4.729130e-03  \n",
              "299  3.658880e-03  3.962140e-03  4.773160e-03  \n",
              "300  3.695890e-03  4.001440e-03  4.817770e-03  \n",
              "\n",
              "[301 rows x 8 columns]"
            ],
            "text/html": [
              "\n",
              "  <div id=\"df-e62ad9a8-3e68-47e6-9b3d-4079a3f472ca\" class=\"colab-df-container\">\n",
              "    <div>\n",
              "<style scoped>\n",
              "    .dataframe tbody tr th:only-of-type {\n",
              "        vertical-align: middle;\n",
              "    }\n",
              "\n",
              "    .dataframe tbody tr th {\n",
              "        vertical-align: top;\n",
              "    }\n",
              "\n",
              "    .dataframe thead th {\n",
              "        text-align: right;\n",
              "    }\n",
              "</style>\n",
              "<table border=\"1\" class=\"dataframe\">\n",
              "  <thead>\n",
              "    <tr style=\"text-align: right;\">\n",
              "      <th></th>\n",
              "      <th>count</th>\n",
              "      <th>mean</th>\n",
              "      <th>std</th>\n",
              "      <th>min</th>\n",
              "      <th>25%</th>\n",
              "      <th>50%</th>\n",
              "      <th>75%</th>\n",
              "      <th>max</th>\n",
              "    </tr>\n",
              "  </thead>\n",
              "  <tbody>\n",
              "    <tr>\n",
              "      <th>0</th>\n",
              "      <td>319.0</td>\n",
              "      <td>6.830831e-10</td>\n",
              "      <td>1.194990e-08</td>\n",
              "      <td>8.000000e-12</td>\n",
              "      <td>1.200000e-11</td>\n",
              "      <td>1.330000e-11</td>\n",
              "      <td>1.500000e-11</td>\n",
              "      <td>2.134460e-07</td>\n",
              "    </tr>\n",
              "    <tr>\n",
              "      <th>1</th>\n",
              "      <td>319.0</td>\n",
              "      <td>5.117618e-11</td>\n",
              "      <td>6.982215e-10</td>\n",
              "      <td>6.400000e-12</td>\n",
              "      <td>1.020000e-11</td>\n",
              "      <td>1.180000e-11</td>\n",
              "      <td>1.325000e-11</td>\n",
              "      <td>1.248260e-08</td>\n",
              "    </tr>\n",
              "    <tr>\n",
              "      <th>2</th>\n",
              "      <td>319.0</td>\n",
              "      <td>1.351411e-11</td>\n",
              "      <td>4.408241e-11</td>\n",
              "      <td>5.400000e-12</td>\n",
              "      <td>9.200000e-12</td>\n",
              "      <td>1.070000e-11</td>\n",
              "      <td>1.230000e-11</td>\n",
              "      <td>7.967000e-10</td>\n",
              "    </tr>\n",
              "    <tr>\n",
              "      <th>3</th>\n",
              "      <td>319.0</td>\n",
              "      <td>1.038056e-11</td>\n",
              "      <td>3.316549e-12</td>\n",
              "      <td>4.100000e-12</td>\n",
              "      <td>8.500000e-12</td>\n",
              "      <td>9.900000e-12</td>\n",
              "      <td>1.140000e-11</td>\n",
              "      <td>3.140000e-11</td>\n",
              "    </tr>\n",
              "    <tr>\n",
              "      <th>4</th>\n",
              "      <td>319.0</td>\n",
              "      <td>9.866771e-12</td>\n",
              "      <td>2.963408e-12</td>\n",
              "      <td>4.400000e-12</td>\n",
              "      <td>8.000000e-12</td>\n",
              "      <td>9.500000e-12</td>\n",
              "      <td>1.110000e-11</td>\n",
              "      <td>2.590000e-11</td>\n",
              "    </tr>\n",
              "    <tr>\n",
              "      <th>...</th>\n",
              "      <td>...</td>\n",
              "      <td>...</td>\n",
              "      <td>...</td>\n",
              "      <td>...</td>\n",
              "      <td>...</td>\n",
              "      <td>...</td>\n",
              "      <td>...</td>\n",
              "      <td>...</td>\n",
              "    </tr>\n",
              "    <tr>\n",
              "      <th>296</th>\n",
              "      <td>319.0</td>\n",
              "      <td>3.536472e-03</td>\n",
              "      <td>3.862668e-04</td>\n",
              "      <td>2.371390e-03</td>\n",
              "      <td>3.223610e-03</td>\n",
              "      <td>3.548210e-03</td>\n",
              "      <td>3.843910e-03</td>\n",
              "      <td>4.640530e-03</td>\n",
              "    </tr>\n",
              "    <tr>\n",
              "      <th>297</th>\n",
              "      <td>319.0</td>\n",
              "      <td>3.572408e-03</td>\n",
              "      <td>3.897917e-04</td>\n",
              "      <td>2.396420e-03</td>\n",
              "      <td>3.256420e-03</td>\n",
              "      <td>3.585260e-03</td>\n",
              "      <td>3.883210e-03</td>\n",
              "      <td>4.685200e-03</td>\n",
              "    </tr>\n",
              "    <tr>\n",
              "      <th>298</th>\n",
              "      <td>319.0</td>\n",
              "      <td>3.608347e-03</td>\n",
              "      <td>3.934946e-04</td>\n",
              "      <td>2.417710e-03</td>\n",
              "      <td>3.289355e-03</td>\n",
              "      <td>3.622060e-03</td>\n",
              "      <td>3.922505e-03</td>\n",
              "      <td>4.729130e-03</td>\n",
              "    </tr>\n",
              "    <tr>\n",
              "      <th>299</th>\n",
              "      <td>319.0</td>\n",
              "      <td>3.644465e-03</td>\n",
              "      <td>3.970520e-04</td>\n",
              "      <td>2.443580e-03</td>\n",
              "      <td>3.322395e-03</td>\n",
              "      <td>3.658880e-03</td>\n",
              "      <td>3.962140e-03</td>\n",
              "      <td>4.773160e-03</td>\n",
              "    </tr>\n",
              "    <tr>\n",
              "      <th>300</th>\n",
              "      <td>319.0</td>\n",
              "      <td>3.680543e-03</td>\n",
              "      <td>4.007619e-04</td>\n",
              "      <td>2.467470e-03</td>\n",
              "      <td>3.355315e-03</td>\n",
              "      <td>3.695890e-03</td>\n",
              "      <td>4.001440e-03</td>\n",
              "      <td>4.817770e-03</td>\n",
              "    </tr>\n",
              "  </tbody>\n",
              "</table>\n",
              "<p>301 rows × 8 columns</p>\n",
              "</div>\n",
              "    <div class=\"colab-df-buttons\">\n",
              "\n",
              "  <div class=\"colab-df-container\">\n",
              "    <button class=\"colab-df-convert\" onclick=\"convertToInteractive('df-e62ad9a8-3e68-47e6-9b3d-4079a3f472ca')\"\n",
              "            title=\"Convert this dataframe to an interactive table.\"\n",
              "            style=\"display:none;\">\n",
              "\n",
              "  <svg xmlns=\"http://www.w3.org/2000/svg\" height=\"24px\" viewBox=\"0 -960 960 960\">\n",
              "    <path d=\"M120-120v-720h720v720H120Zm60-500h600v-160H180v160Zm220 220h160v-160H400v160Zm0 220h160v-160H400v160ZM180-400h160v-160H180v160Zm440 0h160v-160H620v160ZM180-180h160v-160H180v160Zm440 0h160v-160H620v160Z\"/>\n",
              "  </svg>\n",
              "    </button>\n",
              "\n",
              "  <style>\n",
              "    .colab-df-container {\n",
              "      display:flex;\n",
              "      gap: 12px;\n",
              "    }\n",
              "\n",
              "    .colab-df-convert {\n",
              "      background-color: #E8F0FE;\n",
              "      border: none;\n",
              "      border-radius: 50%;\n",
              "      cursor: pointer;\n",
              "      display: none;\n",
              "      fill: #1967D2;\n",
              "      height: 32px;\n",
              "      padding: 0 0 0 0;\n",
              "      width: 32px;\n",
              "    }\n",
              "\n",
              "    .colab-df-convert:hover {\n",
              "      background-color: #E2EBFA;\n",
              "      box-shadow: 0px 1px 2px rgba(60, 64, 67, 0.3), 0px 1px 3px 1px rgba(60, 64, 67, 0.15);\n",
              "      fill: #174EA6;\n",
              "    }\n",
              "\n",
              "    .colab-df-buttons div {\n",
              "      margin-bottom: 4px;\n",
              "    }\n",
              "\n",
              "    [theme=dark] .colab-df-convert {\n",
              "      background-color: #3B4455;\n",
              "      fill: #D2E3FC;\n",
              "    }\n",
              "\n",
              "    [theme=dark] .colab-df-convert:hover {\n",
              "      background-color: #434B5C;\n",
              "      box-shadow: 0px 1px 3px 1px rgba(0, 0, 0, 0.15);\n",
              "      filter: drop-shadow(0px 1px 2px rgba(0, 0, 0, 0.3));\n",
              "      fill: #FFFFFF;\n",
              "    }\n",
              "  </style>\n",
              "\n",
              "    <script>\n",
              "      const buttonEl =\n",
              "        document.querySelector('#df-e62ad9a8-3e68-47e6-9b3d-4079a3f472ca button.colab-df-convert');\n",
              "      buttonEl.style.display =\n",
              "        google.colab.kernel.accessAllowed ? 'block' : 'none';\n",
              "\n",
              "      async function convertToInteractive(key) {\n",
              "        const element = document.querySelector('#df-e62ad9a8-3e68-47e6-9b3d-4079a3f472ca');\n",
              "        const dataTable =\n",
              "          await google.colab.kernel.invokeFunction('convertToInteractive',\n",
              "                                                    [key], {});\n",
              "        if (!dataTable) return;\n",
              "\n",
              "        const docLinkHtml = 'Like what you see? Visit the ' +\n",
              "          '<a target=\"_blank\" href=https://colab.research.google.com/notebooks/data_table.ipynb>data table notebook</a>'\n",
              "          + ' to learn more about interactive tables.';\n",
              "        element.innerHTML = '';\n",
              "        dataTable['output_type'] = 'display_data';\n",
              "        await google.colab.output.renderOutput(dataTable, element);\n",
              "        const docLink = document.createElement('div');\n",
              "        docLink.innerHTML = docLinkHtml;\n",
              "        element.appendChild(docLink);\n",
              "      }\n",
              "    </script>\n",
              "  </div>\n",
              "\n",
              "\n",
              "<div id=\"df-e5f65162-5086-4c25-9c0f-77194f0b5db7\">\n",
              "  <button class=\"colab-df-quickchart\" onclick=\"quickchart('df-e5f65162-5086-4c25-9c0f-77194f0b5db7')\"\n",
              "            title=\"Suggest charts\"\n",
              "            style=\"display:none;\">\n",
              "\n",
              "<svg xmlns=\"http://www.w3.org/2000/svg\" height=\"24px\"viewBox=\"0 0 24 24\"\n",
              "     width=\"24px\">\n",
              "    <g>\n",
              "        <path d=\"M19 3H5c-1.1 0-2 .9-2 2v14c0 1.1.9 2 2 2h14c1.1 0 2-.9 2-2V5c0-1.1-.9-2-2-2zM9 17H7v-7h2v7zm4 0h-2V7h2v10zm4 0h-2v-4h2v4z\"/>\n",
              "    </g>\n",
              "</svg>\n",
              "  </button>\n",
              "\n",
              "<style>\n",
              "  .colab-df-quickchart {\n",
              "      --bg-color: #E8F0FE;\n",
              "      --fill-color: #1967D2;\n",
              "      --hover-bg-color: #E2EBFA;\n",
              "      --hover-fill-color: #174EA6;\n",
              "      --disabled-fill-color: #AAA;\n",
              "      --disabled-bg-color: #DDD;\n",
              "  }\n",
              "\n",
              "  [theme=dark] .colab-df-quickchart {\n",
              "      --bg-color: #3B4455;\n",
              "      --fill-color: #D2E3FC;\n",
              "      --hover-bg-color: #434B5C;\n",
              "      --hover-fill-color: #FFFFFF;\n",
              "      --disabled-bg-color: #3B4455;\n",
              "      --disabled-fill-color: #666;\n",
              "  }\n",
              "\n",
              "  .colab-df-quickchart {\n",
              "    background-color: var(--bg-color);\n",
              "    border: none;\n",
              "    border-radius: 50%;\n",
              "    cursor: pointer;\n",
              "    display: none;\n",
              "    fill: var(--fill-color);\n",
              "    height: 32px;\n",
              "    padding: 0;\n",
              "    width: 32px;\n",
              "  }\n",
              "\n",
              "  .colab-df-quickchart:hover {\n",
              "    background-color: var(--hover-bg-color);\n",
              "    box-shadow: 0 1px 2px rgba(60, 64, 67, 0.3), 0 1px 3px 1px rgba(60, 64, 67, 0.15);\n",
              "    fill: var(--button-hover-fill-color);\n",
              "  }\n",
              "\n",
              "  .colab-df-quickchart-complete:disabled,\n",
              "  .colab-df-quickchart-complete:disabled:hover {\n",
              "    background-color: var(--disabled-bg-color);\n",
              "    fill: var(--disabled-fill-color);\n",
              "    box-shadow: none;\n",
              "  }\n",
              "\n",
              "  .colab-df-spinner {\n",
              "    border: 2px solid var(--fill-color);\n",
              "    border-color: transparent;\n",
              "    border-bottom-color: var(--fill-color);\n",
              "    animation:\n",
              "      spin 1s steps(1) infinite;\n",
              "  }\n",
              "\n",
              "  @keyframes spin {\n",
              "    0% {\n",
              "      border-color: transparent;\n",
              "      border-bottom-color: var(--fill-color);\n",
              "      border-left-color: var(--fill-color);\n",
              "    }\n",
              "    20% {\n",
              "      border-color: transparent;\n",
              "      border-left-color: var(--fill-color);\n",
              "      border-top-color: var(--fill-color);\n",
              "    }\n",
              "    30% {\n",
              "      border-color: transparent;\n",
              "      border-left-color: var(--fill-color);\n",
              "      border-top-color: var(--fill-color);\n",
              "      border-right-color: var(--fill-color);\n",
              "    }\n",
              "    40% {\n",
              "      border-color: transparent;\n",
              "      border-right-color: var(--fill-color);\n",
              "      border-top-color: var(--fill-color);\n",
              "    }\n",
              "    60% {\n",
              "      border-color: transparent;\n",
              "      border-right-color: var(--fill-color);\n",
              "    }\n",
              "    80% {\n",
              "      border-color: transparent;\n",
              "      border-right-color: var(--fill-color);\n",
              "      border-bottom-color: var(--fill-color);\n",
              "    }\n",
              "    90% {\n",
              "      border-color: transparent;\n",
              "      border-bottom-color: var(--fill-color);\n",
              "    }\n",
              "  }\n",
              "</style>\n",
              "\n",
              "  <script>\n",
              "    async function quickchart(key) {\n",
              "      const quickchartButtonEl =\n",
              "        document.querySelector('#' + key + ' button');\n",
              "      quickchartButtonEl.disabled = true;  // To prevent multiple clicks.\n",
              "      quickchartButtonEl.classList.add('colab-df-spinner');\n",
              "      try {\n",
              "        const charts = await google.colab.kernel.invokeFunction(\n",
              "            'suggestCharts', [key], {});\n",
              "      } catch (error) {\n",
              "        console.error('Error during call to suggestCharts:', error);\n",
              "      }\n",
              "      quickchartButtonEl.classList.remove('colab-df-spinner');\n",
              "      quickchartButtonEl.classList.add('colab-df-quickchart-complete');\n",
              "    }\n",
              "    (() => {\n",
              "      let quickchartButtonEl =\n",
              "        document.querySelector('#df-e5f65162-5086-4c25-9c0f-77194f0b5db7 button');\n",
              "      quickchartButtonEl.style.display =\n",
              "        google.colab.kernel.accessAllowed ? 'block' : 'none';\n",
              "    })();\n",
              "  </script>\n",
              "</div>\n",
              "    </div>\n",
              "  </div>\n"
            ],
            "application/vnd.google.colaboratory.intrinsic+json": {
              "type": "dataframe",
              "variable_name": "train_stats",
              "summary": "{\n  \"name\": \"train_stats\",\n  \"rows\": 301,\n  \"fields\": [\n    {\n      \"column\": \"count\",\n      \"properties\": {\n        \"dtype\": \"number\",\n        \"std\": 0.0,\n        \"min\": 319.0,\n        \"max\": 319.0,\n        \"num_unique_values\": 1,\n        \"samples\": [\n          319.0\n        ],\n        \"semantic_type\": \"\",\n        \"description\": \"\"\n      }\n    },\n    {\n      \"column\": \"mean\",\n      \"properties\": {\n        \"dtype\": \"number\",\n        \"std\": 0.0010680582616835734,\n        \"min\": 6.3222570532915395e-12,\n        \"max\": 0.0036805434169279003,\n        \"num_unique_values\": 301,\n        \"samples\": [\n          0.00035832917554858934\n        ],\n        \"semantic_type\": \"\",\n        \"description\": \"\"\n      }\n    },\n    {\n      \"column\": \"std\",\n      \"properties\": {\n        \"dtype\": \"number\",\n        \"std\": 0.00011921491381423793,\n        \"min\": 2.551834707306756e-12,\n        \"max\": 0.0004007618667168679,\n        \"num_unique_values\": 301,\n        \"samples\": [\n          5.6590012407578076e-05\n        ],\n        \"semantic_type\": \"\",\n        \"description\": \"\"\n      }\n    },\n    {\n      \"column\": \"min\",\n      \"properties\": {\n        \"dtype\": \"number\",\n        \"std\": 0.0007116062135216588,\n        \"min\": 4.999999999999999e-13,\n        \"max\": 0.0024674699999999994,\n        \"num_unique_values\": 224,\n        \"samples\": [\n          2.100000000000001e-12\n        ],\n        \"semantic_type\": \"\",\n        \"description\": \"\"\n      }\n    },\n    {\n      \"column\": \"25%\",\n      \"properties\": {\n        \"dtype\": \"number\",\n        \"std\": 0.0009746131871887235,\n        \"min\": 4.600000000000002e-12,\n        \"max\": 0.0033553149999999993,\n        \"num_unique_values\": 235,\n        \"samples\": [\n          3.241220000000003e-05\n        ],\n        \"semantic_type\": \"\",\n        \"description\": \"\"\n      }\n    },\n    {\n      \"column\": \"50%\",\n      \"properties\": {\n        \"dtype\": \"number\",\n        \"std\": 0.001066975995235754,\n        \"min\": 5.900000000000007e-12,\n        \"max\": 0.0036958899999999986,\n        \"num_unique_values\": 230,\n        \"samples\": [\n          0.003256540000000001\n        ],\n        \"semantic_type\": \"\",\n        \"description\": \"\"\n      }\n    },\n    {\n      \"column\": \"75%\",\n      \"properties\": {\n        \"dtype\": \"number\",\n        \"std\": 0.0011609791433535852,\n        \"min\": 7.500000000000002e-12,\n        \"max\": 0.00400144,\n        \"num_unique_values\": 236,\n        \"samples\": [\n          4.4214599999999954e-05\n        ],\n        \"semantic_type\": \"\",\n        \"description\": \"\"\n      }\n    },\n    {\n      \"column\": \"max\",\n      \"properties\": {\n        \"dtype\": \"number\",\n        \"std\": 0.001416187519799416,\n        \"min\": 2.0200000000000025e-11,\n        \"max\": 0.004817770000000001,\n        \"num_unique_values\": 241,\n        \"samples\": [\n          2.0800000000000018e-11\n        ],\n        \"semantic_type\": \"\",\n        \"description\": \"\"\n      }\n    }\n  ]\n}"
            }
          },
          "metadata": {},
          "execution_count": 291
        },
        {
          "output_type": "display_data",
          "data": {
            "text/plain": [
              "<Figure size 1000x1000 with 20 Axes>"
            ],
            "image/png": "[encoded data removed]"
          },
          "metadata": {}
        }
      ],
      "source": [
        "\n",
        "# VIsualize train_dataset\n",
        "sns.pairplot(train_dataset[[0, 5, 10, 15]], diag_kind=\"kde\")\n",
        "\n",
        "# Statistic feature of train_dataset\n",
        "train_stats = train_dataset.describe()\n",
        "train_stats.pop(SELECTED_LABEL)\n",
        "train_stats = train_stats.transpose()\n",
        "train_stats\n"
      ]
    },
    {
      "cell_type": "markdown",
      "metadata": {
        "id": "smncVcQDDJjq"
      },
      "source": [
        "1-4. Split train data, train data's label, test data, test data's label"
      ]
    },
    {
      "cell_type": "code",
      "execution_count": 292,
      "metadata": {
        "id": "oNQthgiLDU5E"
      },
      "outputs": [],
      "source": [
        "\n",
        "# Detach 'Mobility' column from train_dataset & test_dataset\n",
        "train_labels = train_dataset.pop(SELECTED_LABEL)\n",
        "test_labels = test_dataset.pop(SELECTED_LABEL)\n",
        "\n",
        "# Data Normalization - standardization\n",
        "def norm(x):\n",
        "  return (x - train_stats['mean']) / train_stats['std']\n",
        "\n",
        "# Data Normalization - log10 transform\n",
        "def norm_log10(x):\n",
        "  return (np.log10(x + 1))\n",
        "\n",
        "#--------------------------------------\n",
        "\n",
        "if(NORMALIZATION == 'norm'):\n",
        "  normed_train_data = norm(train_dataset)\n",
        "  normed_test_data = norm(test_dataset)\n",
        "\n",
        "elif(NORMALIZATION == 'norm_log10'):\n",
        "  normed_train_data = norm_log10(train_dataset)\n",
        "  normed_test_data = norm_log10(test_dataset)\n",
        "\n",
        "\n",
        "\n",
        "\n",
        "\n"
      ]
    },
    {
      "cell_type": "code",
      "source": [
        "\n",
        "train_labels.tail()\n",
        "test_labels.tail()"
      ],
      "metadata": {
        "colab": {
          "base_uri": "https://localhost:8080/"
        },
        "id": "51Qzj4W9OtLe",
        "outputId": "0123d355-85e4-4f2a-fd46-cd10bdc5a358"
      },
      "execution_count": 293,
      "outputs": [
        {
          "output_type": "execute_result",
          "data": {
            "text/plain": [
              "379    4.957761e+08\n",
              "387    8.188836e+08\n",
              "394    9.442755e+08\n",
              "396    1.085654e+08\n",
              "397    1.174500e+09\n",
              "Name: On/Off, dtype: float64"
            ]
          },
          "metadata": {},
          "execution_count": 293
        }
      ]
    },
    {
      "cell_type": "markdown",
      "metadata": {
        "id": "_m-cuqOgFzV3"
      },
      "source": [
        "\n",
        "\n",
        "---\n",
        "\n"
      ]
    },
    {
      "cell_type": "markdown",
      "metadata": {
        "id": "dWiaw2jtHd_6"
      },
      "source": [
        "# 2. Construct DNN structure"
      ]
    },
    {
      "cell_type": "code",
      "execution_count": 294,
      "metadata": {
        "colab": {
          "base_uri": "https://localhost:8080/"
        },
        "id": "_jd18CQ9HgEi",
        "outputId": "a5e9e544-19e6-4fdf-9fc5-6ebd723fd105"
      },
      "outputs": [
        {
          "output_type": "stream",
          "name": "stdout",
          "text": [
            "Model: \"sequential_44\"\n",
            "_________________________________________________________________\n",
            " Layer (type)                Output Shape              Param #   \n",
            "=================================================================\n",
            " dense_176 (Dense)           (None, 100)               30200     \n",
            "                                                                 \n",
            " dense_177 (Dense)           (None, 100)               10100     \n",
            "                                                                 \n",
            " dense_178 (Dense)           (None, 50)                5050      \n",
            "                                                                 \n",
            " dense_179 (Dense)           (None, 1)                 51        \n",
            "                                                                 \n",
            "=================================================================\n",
            "Total params: 45401 (177.35 KB)\n",
            "Trainable params: 45401 (177.35 KB)\n",
            "Non-trainable params: 0 (0.00 Byte)\n",
            "_________________________________________________________________\n"
          ]
        }
      ],
      "source": [
        "\n",
        "# 옵티마이저 인스턴스를 생성하는 함수 정의\n",
        "def get_optimizer(name, learning_rate):\n",
        "    if name == 'adam':\n",
        "        return tf.keras.optimizers.Adam(learning_rate=learning_rate)\n",
        "    elif name == 'sgd':\n",
        "        return tf.keras.optimizers.SGD(learning_rate=learning_rate, momentum=0.9)\n",
        "    elif name == 'rmsprop':\n",
        "        return tf.keras.optimizers.RMSprop(learning_rate=learning_rate)\n",
        "    else:\n",
        "        raise ValueError(f\"Unsupported optimizer: {name}\")\n",
        "\n",
        "def build_model():\n",
        "  model = keras.Sequential([\n",
        "    layers.Dense(100, activation=ACTIVATION_FUNCTION, input_shape=[len(train_dataset.keys())]),\n",
        "    layers.Dense(100, activation=ACTIVATION_FUNCTION),\n",
        "    layers.Dense(50, activation=ACTIVATION_FUNCTION),\n",
        "    layers.Dense(1)\n",
        "  ])\n",
        "\n",
        "  OPTIMIZER = get_optimizer(OPTIMIZER_NAME, LEARNING_RATE)\n",
        "  OPTIMIZER.build(model.trainable_variables)\n",
        "\n",
        "  model.compile(loss=LOSS_FUNCTION,\n",
        "                optimizer=OPTIMIZER,\n",
        "                metrics=PERFORMANCE)\n",
        "  return model\n",
        "\n",
        "\n",
        "model = build_model()\n",
        "model.summary()\n"
      ]
    },
    {
      "cell_type": "markdown",
      "metadata": {
        "id": "TqArGSc-FxcZ"
      },
      "source": [
        "\n",
        "\n",
        "---\n",
        "\n"
      ]
    },
    {
      "cell_type": "markdown",
      "metadata": {
        "id": "P4VbbXuuMlCx"
      },
      "source": [
        "# 3. train"
      ]
    },
    {
      "cell_type": "code",
      "execution_count": 295,
      "metadata": {
        "colab": {
          "base_uri": "https://localhost:8080/"
        },
        "id": "6cDKAKbJMkeG",
        "outputId": "7b15028a-b6c4-405f-ca9e-450de2c63a97"
      },
      "outputs": [
        {
          "output_type": "stream",
          "name": "stdout",
          "text": [
            "\n",
            "....................................................................................................\n",
            "....................................................................................................\n",
            "....................................................................................................\n",
            "....................................................................................................\n",
            "....................................................................................................\n",
            "....................................................................................................\n",
            "....................................................................................................\n",
            "....................................................................................................\n",
            "....................................................................................................\n",
            "...................................................................................................."
          ]
        }
      ],
      "source": [
        "\n",
        "# While each epoch ended, print dot(.) to visualize train process\n",
        "class PrintDot(keras.callbacks.Callback):\n",
        "  def on_epoch_end(self, epoch, logs):\n",
        "    if epoch % 100 == 0: print('')\n",
        "    print('.', end='')\n",
        "\n",
        "# Training\n",
        "history = model.fit(\n",
        "  normed_train_data, train_labels,\n",
        "  epochs=EPOCHS, validation_split = 0.2, verbose=0, batch_size = BATCH_SIZE,\n",
        "  callbacks=[PrintDot()])\n"
      ]
    },
    {
      "cell_type": "markdown",
      "metadata": {
        "id": "rNv0GhbS0EcA"
      },
      "source": [
        " 3-1. Visualize model training process"
      ]
    },
    {
      "cell_type": "code",
      "execution_count": 296,
      "metadata": {
        "colab": {
          "base_uri": "https://localhost:8080/",
          "height": 206
        },
        "id": "i364YcUw0Aex",
        "outputId": "f15a74a1-cd0f-4f27-a1b1-d4c38ec452cd"
      },
      "outputs": [
        {
          "output_type": "execute_result",
          "data": {
            "text/plain": [
              "             loss           mse          mae      val_loss       val_mse  \\\n",
              "995  1.246197e+18  1.246197e+18  841361856.0  9.502006e+17  9.502006e+17   \n",
              "996  1.246152e+18  1.246152e+18  841334912.0  9.501542e+17  9.501542e+17   \n",
              "997  1.246105e+18  1.246105e+18  841307904.0  9.501081e+17  9.501081e+17   \n",
              "998  1.246060e+18  1.246060e+18  841280896.0  9.500617e+17  9.500617e+17   \n",
              "999  1.246016e+18  1.246016e+18  841253696.0  9.500149e+17  9.500149e+17   \n",
              "\n",
              "         val_mae  epoch  \n",
              "995  854760128.0    995  \n",
              "996  854733056.0    996  \n",
              "997  854706112.0    997  \n",
              "998  854678976.0    998  \n",
              "999  854651584.0    999  "
            ],
            "text/html": [
              "\n",
              "  <div id=\"df-43cccfb8-afc6-42b8-ac29-6593cee36d04\" class=\"colab-df-container\">\n",
              "    <div>\n",
              "<style scoped>\n",
              "    .dataframe tbody tr th:only-of-type {\n",
              "        vertical-align: middle;\n",
              "    }\n",
              "\n",
              "    .dataframe tbody tr th {\n",
              "        vertical-align: top;\n",
              "    }\n",
              "\n",
              "    .dataframe thead th {\n",
              "        text-align: right;\n",
              "    }\n",
              "</style>\n",
              "<table border=\"1\" class=\"dataframe\">\n",
              "  <thead>\n",
              "    <tr style=\"text-align: right;\">\n",
              "      <th></th>\n",
              "      <th>loss</th>\n",
              "      <th>mse</th>\n",
              "      <th>mae</th>\n",
              "      <th>val_loss</th>\n",
              "      <th>val_mse</th>\n",
              "      <th>val_mae</th>\n",
              "      <th>epoch</th>\n",
              "    </tr>\n",
              "  </thead>\n",
              "  <tbody>\n",
              "    <tr>\n",
              "      <th>995</th>\n",
              "      <td>1.246197e+18</td>\n",
              "      <td>1.246197e+18</td>\n",
              "      <td>841361856.0</td>\n",
              "      <td>9.502006e+17</td>\n",
              "      <td>9.502006e+17</td>\n",
              "      <td>854760128.0</td>\n",
              "      <td>995</td>\n",
              "    </tr>\n",
              "    <tr>\n",
              "      <th>996</th>\n",
              "      <td>1.246152e+18</td>\n",
              "      <td>1.246152e+18</td>\n",
              "      <td>841334912.0</td>\n",
              "      <td>9.501542e+17</td>\n",
              "      <td>9.501542e+17</td>\n",
              "      <td>854733056.0</td>\n",
              "      <td>996</td>\n",
              "    </tr>\n",
              "    <tr>\n",
              "      <th>997</th>\n",
              "      <td>1.246105e+18</td>\n",
              "      <td>1.246105e+18</td>\n",
              "      <td>841307904.0</td>\n",
              "      <td>9.501081e+17</td>\n",
              "      <td>9.501081e+17</td>\n",
              "      <td>854706112.0</td>\n",
              "      <td>997</td>\n",
              "    </tr>\n",
              "    <tr>\n",
              "      <th>998</th>\n",
              "      <td>1.246060e+18</td>\n",
              "      <td>1.246060e+18</td>\n",
              "      <td>841280896.0</td>\n",
              "      <td>9.500617e+17</td>\n",
              "      <td>9.500617e+17</td>\n",
              "      <td>854678976.0</td>\n",
              "      <td>998</td>\n",
              "    </tr>\n",
              "    <tr>\n",
              "      <th>999</th>\n",
              "      <td>1.246016e+18</td>\n",
              "      <td>1.246016e+18</td>\n",
              "      <td>841253696.0</td>\n",
              "      <td>9.500149e+17</td>\n",
              "      <td>9.500149e+17</td>\n",
              "      <td>854651584.0</td>\n",
              "      <td>999</td>\n",
              "    </tr>\n",
              "  </tbody>\n",
              "</table>\n",
              "</div>\n",
              "    <div class=\"colab-df-buttons\">\n",
              "\n",
              "  <div class=\"colab-df-container\">\n",
              "    <button class=\"colab-df-convert\" onclick=\"convertToInteractive('df-43cccfb8-afc6-42b8-ac29-6593cee36d04')\"\n",
              "            title=\"Convert this dataframe to an interactive table.\"\n",
              "            style=\"display:none;\">\n",
              "\n",
              "  <svg xmlns=\"http://www.w3.org/2000/svg\" height=\"24px\" viewBox=\"0 -960 960 960\">\n",
              "    <path d=\"M120-120v-720h720v720H120Zm60-500h600v-160H180v160Zm220 220h160v-160H400v160Zm0 220h160v-160H400v160ZM180-400h160v-160H180v160Zm440 0h160v-160H620v160ZM180-180h160v-160H180v160Zm440 0h160v-160H620v160Z\"/>\n",
              "  </svg>\n",
              "    </button>\n",
              "\n",
              "  <style>\n",
              "    .colab-df-container {\n",
              "      display:flex;\n",
              "      gap: 12px;\n",
              "    }\n",
              "\n",
              "    .colab-df-convert {\n",
              "      background-color: #E8F0FE;\n",
              "      border: none;\n",
              "      border-radius: 50%;\n",
              "      cursor: pointer;\n",
              "      display: none;\n",
              "      fill: #1967D2;\n",
              "      height: 32px;\n",
              "      padding: 0 0 0 0;\n",
              "      width: 32px;\n",
              "    }\n",
              "\n",
              "    .colab-df-convert:hover {\n",
              "      background-color: #E2EBFA;\n",
              "      box-shadow: 0px 1px 2px rgba(60, 64, 67, 0.3), 0px 1px 3px 1px rgba(60, 64, 67, 0.15);\n",
              "      fill: #174EA6;\n",
              "    }\n",
              "\n",
              "    .colab-df-buttons div {\n",
              "      margin-bottom: 4px;\n",
              "    }\n",
              "\n",
              "    [theme=dark] .colab-df-convert {\n",
              "      background-color: #3B4455;\n",
              "      fill: #D2E3FC;\n",
              "    }\n",
              "\n",
              "    [theme=dark] .colab-df-convert:hover {\n",
              "      background-color: #434B5C;\n",
              "      box-shadow: 0px 1px 3px 1px rgba(0, 0, 0, 0.15);\n",
              "      filter: drop-shadow(0px 1px 2px rgba(0, 0, 0, 0.3));\n",
              "      fill: #FFFFFF;\n",
              "    }\n",
              "  </style>\n",
              "\n",
              "    <script>\n",
              "      const buttonEl =\n",
              "        document.querySelector('#df-43cccfb8-afc6-42b8-ac29-6593cee36d04 button.colab-df-convert');\n",
              "      buttonEl.style.display =\n",
              "        google.colab.kernel.accessAllowed ? 'block' : 'none';\n",
              "\n",
              "      async function convertToInteractive(key) {\n",
              "        const element = document.querySelector('#df-43cccfb8-afc6-42b8-ac29-6593cee36d04');\n",
              "        const dataTable =\n",
              "          await google.colab.kernel.invokeFunction('convertToInteractive',\n",
              "                                                    [key], {});\n",
              "        if (!dataTable) return;\n",
              "\n",
              "        const docLinkHtml = 'Like what you see? Visit the ' +\n",
              "          '<a target=\"_blank\" href=https://colab.research.google.com/notebooks/data_table.ipynb>data table notebook</a>'\n",
              "          + ' to learn more about interactive tables.';\n",
              "        element.innerHTML = '';\n",
              "        dataTable['output_type'] = 'display_data';\n",
              "        await google.colab.output.renderOutput(dataTable, element);\n",
              "        const docLink = document.createElement('div');\n",
              "        docLink.innerHTML = docLinkHtml;\n",
              "        element.appendChild(docLink);\n",
              "      }\n",
              "    </script>\n",
              "  </div>\n",
              "\n",
              "\n",
              "<div id=\"df-03d2a5bb-c254-4704-a594-f7926fe5db5a\">\n",
              "  <button class=\"colab-df-quickchart\" onclick=\"quickchart('df-03d2a5bb-c254-4704-a594-f7926fe5db5a')\"\n",
              "            title=\"Suggest charts\"\n",
              "            style=\"display:none;\">\n",
              "\n",
              "<svg xmlns=\"http://www.w3.org/2000/svg\" height=\"24px\"viewBox=\"0 0 24 24\"\n",
              "     width=\"24px\">\n",
              "    <g>\n",
              "        <path d=\"M19 3H5c-1.1 0-2 .9-2 2v14c0 1.1.9 2 2 2h14c1.1 0 2-.9 2-2V5c0-1.1-.9-2-2-2zM9 17H7v-7h2v7zm4 0h-2V7h2v10zm4 0h-2v-4h2v4z\"/>\n",
              "    </g>\n",
              "</svg>\n",
              "  </button>\n",
              "\n",
              "<style>\n",
              "  .colab-df-quickchart {\n",
              "      --bg-color: #E8F0FE;\n",
              "      --fill-color: #1967D2;\n",
              "      --hover-bg-color: #E2EBFA;\n",
              "      --hover-fill-color: #174EA6;\n",
              "      --disabled-fill-color: #AAA;\n",
              "      --disabled-bg-color: #DDD;\n",
              "  }\n",
              "\n",
              "  [theme=dark] .colab-df-quickchart {\n",
              "      --bg-color: #3B4455;\n",
              "      --fill-color: #D2E3FC;\n",
              "      --hover-bg-color: #434B5C;\n",
              "      --hover-fill-color: #FFFFFF;\n",
              "      --disabled-bg-color: #3B4455;\n",
              "      --disabled-fill-color: #666;\n",
              "  }\n",
              "\n",
              "  .colab-df-quickchart {\n",
              "    background-color: var(--bg-color);\n",
              "    border: none;\n",
              "    border-radius: 50%;\n",
              "    cursor: pointer;\n",
              "    display: none;\n",
              "    fill: var(--fill-color);\n",
              "    height: 32px;\n",
              "    padding: 0;\n",
              "    width: 32px;\n",
              "  }\n",
              "\n",
              "  .colab-df-quickchart:hover {\n",
              "    background-color: var(--hover-bg-color);\n",
              "    box-shadow: 0 1px 2px rgba(60, 64, 67, 0.3), 0 1px 3px 1px rgba(60, 64, 67, 0.15);\n",
              "    fill: var(--button-hover-fill-color);\n",
              "  }\n",
              "\n",
              "  .colab-df-quickchart-complete:disabled,\n",
              "  .colab-df-quickchart-complete:disabled:hover {\n",
              "    background-color: var(--disabled-bg-color);\n",
              "    fill: var(--disabled-fill-color);\n",
              "    box-shadow: none;\n",
              "  }\n",
              "\n",
              "  .colab-df-spinner {\n",
              "    border: 2px solid var(--fill-color);\n",
              "    border-color: transparent;\n",
              "    border-bottom-color: var(--fill-color);\n",
              "    animation:\n",
              "      spin 1s steps(1) infinite;\n",
              "  }\n",
              "\n",
              "  @keyframes spin {\n",
              "    0% {\n",
              "      border-color: transparent;\n",
              "      border-bottom-color: var(--fill-color);\n",
              "      border-left-color: var(--fill-color);\n",
              "    }\n",
              "    20% {\n",
              "      border-color: transparent;\n",
              "      border-left-color: var(--fill-color);\n",
              "      border-top-color: var(--fill-color);\n",
              "    }\n",
              "    30% {\n",
              "      border-color: transparent;\n",
              "      border-left-color: var(--fill-color);\n",
              "      border-top-color: var(--fill-color);\n",
              "      border-right-color: var(--fill-color);\n",
              "    }\n",
              "    40% {\n",
              "      border-color: transparent;\n",
              "      border-right-color: var(--fill-color);\n",
              "      border-top-color: var(--fill-color);\n",
              "    }\n",
              "    60% {\n",
              "      border-color: transparent;\n",
              "      border-right-color: var(--fill-color);\n",
              "    }\n",
              "    80% {\n",
              "      border-color: transparent;\n",
              "      border-right-color: var(--fill-color);\n",
              "      border-bottom-color: var(--fill-color);\n",
              "    }\n",
              "    90% {\n",
              "      border-color: transparent;\n",
              "      border-bottom-color: var(--fill-color);\n",
              "    }\n",
              "  }\n",
              "</style>\n",
              "\n",
              "  <script>\n",
              "    async function quickchart(key) {\n",
              "      const quickchartButtonEl =\n",
              "        document.querySelector('#' + key + ' button');\n",
              "      quickchartButtonEl.disabled = true;  // To prevent multiple clicks.\n",
              "      quickchartButtonEl.classList.add('colab-df-spinner');\n",
              "      try {\n",
              "        const charts = await google.colab.kernel.invokeFunction(\n",
              "            'suggestCharts', [key], {});\n",
              "      } catch (error) {\n",
              "        console.error('Error during call to suggestCharts:', error);\n",
              "      }\n",
              "      quickchartButtonEl.classList.remove('colab-df-spinner');\n",
              "      quickchartButtonEl.classList.add('colab-df-quickchart-complete');\n",
              "    }\n",
              "    (() => {\n",
              "      let quickchartButtonEl =\n",
              "        document.querySelector('#df-03d2a5bb-c254-4704-a594-f7926fe5db5a button');\n",
              "      quickchartButtonEl.style.display =\n",
              "        google.colab.kernel.accessAllowed ? 'block' : 'none';\n",
              "    })();\n",
              "  </script>\n",
              "</div>\n",
              "    </div>\n",
              "  </div>\n"
            ],
            "application/vnd.google.colaboratory.intrinsic+json": {
              "type": "dataframe",
              "summary": "{\n  \"name\": \"hist\",\n  \"rows\": 5,\n  \"fields\": [\n    {\n      \"column\": \"loss\",\n      \"properties\": {\n        \"dtype\": \"number\",\n        \"std\": 71542315530178.28,\n        \"min\": 1.2460161920579666e+18,\n        \"max\": 1.2461965119649219e+18,\n        \"num_unique_values\": 5,\n        \"samples\": [\n          1.2461515694271365e+18,\n          1.2460161920579666e+18,\n          1.246105115060863e+18\n        ],\n        \"semantic_type\": \"\",\n        \"description\": \"\"\n      }\n    },\n    {\n      \"column\": \"mse\",\n      \"properties\": {\n        \"dtype\": \"number\",\n        \"std\": 71542315530178.28,\n        \"min\": 1.2460161920579666e+18,\n        \"max\": 1.2461965119649219e+18,\n        \"num_unique_values\": 5,\n        \"samples\": [\n          1.2461515694271365e+18,\n          1.2460161920579666e+18,\n          1.246105115060863e+18\n        ],\n        \"semantic_type\": \"\",\n        \"description\": \"\"\n      }\n    },\n    {\n      \"column\": \"mae\",\n      \"properties\": {\n        \"dtype\": \"number\",\n        \"std\": 42743.93696420581,\n        \"min\": 841253696.0,\n        \"max\": 841361856.0,\n        \"num_unique_values\": 5,\n        \"samples\": [\n          841334912.0,\n          841253696.0,\n          841307904.0\n        ],\n        \"semantic_type\": \"\",\n        \"description\": \"\"\n      }\n    },\n    {\n      \"column\": \"val_loss\",\n      \"properties\": {\n        \"dtype\": \"number\",\n        \"std\": 73342459590939.47,\n        \"min\": 9.500148800379945e+17,\n        \"max\": 9.502005600641352e+17,\n        \"num_unique_values\": 5,\n        \"samples\": [\n          9.501542431368151e+17,\n          9.500148800379945e+17,\n          9.501081323679252e+17\n        ],\n        \"semantic_type\": \"\",\n        \"description\": \"\"\n      }\n    },\n    {\n      \"column\": \"val_mse\",\n      \"properties\": {\n        \"dtype\": \"number\",\n        \"std\": 73342459590939.47,\n        \"min\": 9.500148800379945e+17,\n        \"max\": 9.502005600641352e+17,\n        \"num_unique_values\": 5,\n        \"samples\": [\n          9.501542431368151e+17,\n          9.500148800379945e+17,\n          9.501081323679252e+17\n        ],\n        \"semantic_type\": \"\",\n        \"description\": \"\"\n      }\n    },\n    {\n      \"column\": \"val_mae\",\n      \"properties\": {\n        \"dtype\": \"number\",\n        \"std\": 42875.61529820884,\n        \"min\": 854651584.0,\n        \"max\": 854760128.0,\n        \"num_unique_values\": 5,\n        \"samples\": [\n          854733056.0,\n          854651584.0,\n          854706112.0\n        ],\n        \"semantic_type\": \"\",\n        \"description\": \"\"\n      }\n    },\n    {\n      \"column\": \"epoch\",\n      \"properties\": {\n        \"dtype\": \"number\",\n        \"std\": 1,\n        \"min\": 995,\n        \"max\": 999,\n        \"num_unique_values\": 5,\n        \"samples\": [\n          996,\n          999,\n          997\n        ],\n        \"semantic_type\": \"\",\n        \"description\": \"\"\n      }\n    }\n  ]\n}"
            }
          },
          "metadata": {},
          "execution_count": 296
        }
      ],
      "source": [
        "\n",
        "hist = pd.DataFrame(history.history)\n",
        "hist['epoch'] = history.epoch\n",
        "hist.tail()\n"
      ]
    },
    {
      "cell_type": "markdown",
      "metadata": {
        "id": "x2te6mVsEioJ"
      },
      "source": [
        "3-2. Training without EarlyStopping callback"
      ]
    },
    {
      "cell_type": "code",
      "execution_count": 297,
      "metadata": {
        "colab": {
          "base_uri": "https://localhost:8080/",
          "height": 1000
        },
        "id": "npwioTJ30d6-",
        "outputId": "8c78bed3-adff-4372-cf9f-b4aa9f66f482"
      },
      "outputs": [
        {
          "output_type": "stream",
          "name": "stdout",
          "text": [
            "Plot has been saved to /content/drive/My Drive/DNN_Hyperparameter/'20240529_135224_945035'/plot_20240529_135323.png\n"
          ]
        },
        {
          "output_type": "display_data",
          "data": {
            "text/plain": [
              "<Figure size 800x1200 with 2 Axes>"
            ],
            "image/png": "[encoded data removed]"
          },
          "metadata": {}
        }
      ],
      "source": [
        "import matplotlib.pyplot as plt\n",
        "\n",
        "def plot_history(history):\n",
        "  hist = pd.DataFrame(history.history)\n",
        "  hist['epoch'] = history.epoch\n",
        "  # xlim과 ylim 설정\n",
        "  mae_max_value = max(np.max(hist['mae']), np.max(hist['val_mae']))\n",
        "  mse_max_value = max(np.max(hist['mse']), np.max(hist['val_mse']))\n",
        "  mae_min_value = min(np.min(hist['mae']), np.min(hist['val_mae']))\n",
        "  mse_min_value = min(np.min(hist['mse']), np.min(hist['val_mse']))\n",
        "\n",
        "  if(SELECTED_LABEL == 'On/Off'):\n",
        "    mae_margin = 0.5 * (mae_max_value - mae_min_value)  # 여유 공간 설정\n",
        "    mse_margin = 0.5 * (mse_max_value - mse_min_value)\n",
        "  else:\n",
        "    margin = 0\n",
        "\n",
        "  plt.figure(figsize=(8,12))\n",
        "\n",
        "  plt.subplot(2,1,1)\n",
        "  plt.xlabel('Epoch')\n",
        "  plt.ylabel(f\"Mean Abs Error ['{SELECTED_LABEL}']\")\n",
        "  plt.plot(hist['epoch'], hist['mae'],\n",
        "           label='Train Error')\n",
        "  plt.plot(hist['epoch'], hist['val_mae'],\n",
        "           label = 'Val Error')\n",
        "  plt.ylim([mae_min_value - mae_margin, mae_max_value + mae_margin])\n",
        "  plt.legend()\n",
        "\n",
        "  plt.subplot(2,1,2)\n",
        "  plt.xlabel('Epoch')\n",
        "  plt.ylabel(f\"Mean Square Error ['{SELECTED_LABEL}']\")\n",
        "  plt.plot(hist['epoch'], hist['mse'],\n",
        "           label='Train Error')\n",
        "  plt.plot(hist['epoch'], hist['val_mse'],\n",
        "           label = 'Val Error')\n",
        "  plt.ylim([mse_min_value - mse_margin, mse_max_value + mse_margin])\n",
        "  plt.legend()\n",
        "\n",
        "  #시각자료 저장\n",
        "  plot_figure = plt.gcf()\n",
        "  save_plot_to_file(plot_figure,folder_path)\n",
        "\n",
        "  plt.show()\n",
        "\n",
        "plot_history(history)\n"
      ]
    },
    {
      "cell_type": "markdown",
      "metadata": {
        "id": "Vo9dIuxbFV7w"
      },
      "source": [
        "3-3. Train with EarlyStopping callback"
      ]
    },
    {
      "cell_type": "code",
      "execution_count": 298,
      "metadata": {
        "colab": {
          "base_uri": "https://localhost:8080/",
          "height": 1000
        },
        "id": "DZZnZ1970v6h",
        "outputId": "99de450f-1bf4-4ade-cd6f-a45f75fcbc6d"
      },
      "outputs": [
        {
          "output_type": "stream",
          "name": "stdout",
          "text": [
            "\n",
            "....................................................................................................\n",
            "....................................................................................................\n",
            "....................................................................................................\n",
            "....................................................................................................\n",
            "....................................................................................................\n",
            "....................................................................................................\n",
            "....................................................................................................\n",
            "....................................................................................................\n",
            "....................................................................................................\n",
            "....................................................................................................Plot has been saved to /content/drive/My Drive/DNN_Hyperparameter/'20240529_135224_945035'/plot_20240529_135417.png\n"
          ]
        },
        {
          "output_type": "display_data",
          "data": {
            "text/plain": [
              "<Figure size 800x1200 with 2 Axes>"
            ],
            "image/png": "[encoded data removed]"
          },
          "metadata": {}
        }
      ],
      "source": [
        "model = build_model()\n",
        "\n",
        "# patience parameter is a epoch size for checking performance improvement\n",
        "early_stop = keras.callbacks.EarlyStopping(monitor='val_loss', patience=PATIENCE)\n",
        "\n",
        "# train\n",
        "history = model.fit(normed_train_data, train_labels, epochs=EPOCHS, batch_size = BATCH_SIZE,\n",
        "                    validation_split = 0.2, verbose=0, callbacks=[early_stop, PrintDot()])\n",
        "\n",
        "plot_history(history)"
      ]
    },
    {
      "cell_type": "markdown",
      "metadata": {
        "id": "phEdJudIFt9R"
      },
      "source": [
        "\n",
        "\n",
        "---\n",
        "\n"
      ]
    },
    {
      "cell_type": "markdown",
      "metadata": {
        "id": "b7iSH7XvFbjX"
      },
      "source": [
        "# 5. Test"
      ]
    },
    {
      "cell_type": "code",
      "execution_count": 299,
      "metadata": {
        "colab": {
          "base_uri": "https://localhost:8080/"
        },
        "id": "kYLPahih01kl",
        "outputId": "4194036b-d10e-4581-ca8b-ecce3a475851"
      },
      "outputs": [
        {
          "output_type": "stream",
          "name": "stdout",
          "text": [
            "테스트 세트의 평균 절대 오차: 746197653682913280.00 MPG\n"
          ]
        }
      ],
      "source": [
        "\n",
        "# For model evaluation, change Pandas(DataFrame) to Numpy with float type\n",
        "normed_test_data_array = normed_test_data.to_numpy().astype(float)\n",
        "\n",
        "# Test\n",
        "loss, mae, mse = model.evaluate(normed_test_data_array, test_labels, verbose=24)\n",
        "\n",
        "print(\"테스트 세트의 평균 절대 오차: {:5.2f} MPG\".format(mae))\n"
      ]
    },
    {
      "cell_type": "markdown",
      "metadata": {
        "id": "W0ir5nYpFghV"
      },
      "source": [
        "5-1. Visualize Prediction (with test data)"
      ]
    },
    {
      "cell_type": "code",
      "execution_count": 300,
      "metadata": {
        "id": "44Rb2bWO95oy",
        "colab": {
          "base_uri": "https://localhost:8080/",
          "height": 519
        },
        "outputId": "3a2230af-ed49-4199-8af1-e7f5e7a85a30"
      },
      "outputs": [
        {
          "output_type": "stream",
          "name": "stdout",
          "text": [
            "3/3 [==============================] - 0s 4ms/step\n",
            "[4751984.5 4716080.5 4765573.  4750262.  4736682.5]\n",
            "Plot has been saved to /content/drive/My Drive/DNN_Hyperparameter/'20240529_135224_945035'/plot_20240529_135418.png\n"
          ]
        },
        {
          "output_type": "display_data",
          "data": {
            "text/plain": [
              "<Figure size 640x480 with 1 Axes>"
            ],
            "image/png": "[encoded data removed]"
          },
          "metadata": {}
        }
      ],
      "source": [
        "\n",
        "test_predictions = model.predict(normed_test_data).flatten()\n",
        "\n",
        "print(test_predictions[0:5])\n",
        "\n",
        "# 산포도 그리기\n",
        "plt.scatter(test_labels, test_predictions)\n",
        "plt.xlabel(f\"True Values ['{SELECTED_LABEL}']\")\n",
        "plt.ylabel(f\"Predictions ['{SELECTED_LABEL}']\")\n",
        "plt.axis('equal')\n",
        "plt.axis('square')\n",
        "\n",
        "# xlim과 ylim 설정\n",
        "max_value = max(np.max(test_labels), np.max(test_predictions))\n",
        "min_value = min(np.min(test_labels), np.min(test_predictions))\n",
        "plt.xlim([0, max_value])\n",
        "plt.ylim([0, max_value])\n",
        "\n",
        "# 대각선 1:1 라인 그리기\n",
        "_ = plt.plot([0, max_value], [0, max_value], color='red')\n",
        "\n",
        "\n",
        "#시각자료 저장\n",
        "plot_figure = plt.gcf()\n",
        "save_plot_to_file(plot_figure,folder_path)\n",
        "\n",
        "\n",
        "# 그래프 보여주기\n",
        "plt.show()\n"
      ]
    },
    {
      "cell_type": "code",
      "execution_count": 301,
      "metadata": {
        "id": "XKlOZjNu99dv",
        "colab": {
          "base_uri": "https://localhost:8080/",
          "height": 467
        },
        "outputId": "e85192d2-ef0b-4842-90a1-0fc2081373b7"
      },
      "outputs": [
        {
          "output_type": "stream",
          "name": "stdout",
          "text": [
            "Plot has been saved to /content/drive/My Drive/DNN_Hyperparameter/'20240529_135224_945035'/plot_20240529_135418.png\n"
          ]
        },
        {
          "output_type": "display_data",
          "data": {
            "text/plain": [
              "<Figure size 640x480 with 1 Axes>"
            ],
            "image/png": "[encoded data removed]"
          },
          "metadata": {}
        }
      ],
      "source": [
        "error = test_predictions - test_labels\n",
        "plt.hist(error, bins = 25)\n",
        "plt.xlabel(f\"Prediction Error ['{SELECTED_LABEL}']\")\n",
        "_ = plt.ylabel(\"Count\")\n",
        "\n",
        "#시각자료 저장\n",
        "plot_figure = plt.gcf()\n",
        "save_plot_to_file(plot_figure,folder_path)"
      ]
    },
    {
      "cell_type": "code",
      "execution_count": 302,
      "metadata": {
        "id": "S_-j9Yc7kI4B",
        "colab": {
          "base_uri": "https://localhost:8080/"
        },
        "outputId": "b925c550-d664-4903-df89-762497113d31"
      },
      "outputs": [
        {
          "output_type": "stream",
          "name": "stdout",
          "text": [
            "Mean Absolute Error (MAE): 713642518.64\n",
            "Mean Squared Error (MSE): 746197664660138240.00\n",
            "Root Mean Squared Error (RMSE): 863827334.98\n",
            "R² Score: -2.15\n"
          ]
        }
      ],
      "source": [
        "\n",
        "# Mean Absolute Error (MAE)\n",
        "mae = mean_absolute_error(test_labels, test_predictions)\n",
        "print(f'Mean Absolute Error (MAE): {mae:.2f}')\n",
        "\n",
        "# Mean Squared Error (MSE)\n",
        "mse = mean_squared_error(test_labels, test_predictions)\n",
        "print(f'Mean Squared Error (MSE): {mse:.2f}')\n",
        "\n",
        "# Root Mean Squared Error (RMSE)\n",
        "rmse = np.sqrt(mse)\n",
        "print(f'Root Mean Squared Error (RMSE): {rmse:.2f}')\n",
        "\n",
        "# R² Score\n",
        "r2 = r2_score(test_labels, test_predictions)\n",
        "print(f'R² Score: {r2:.2f}')"
      ]
    },
    {
      "cell_type": "markdown",
      "metadata": {
        "id": "lZzZ9tEdTJ2b"
      },
      "source": [
        "Saving data"
      ]
    },
    {
      "cell_type": "code",
      "execution_count": 303,
      "metadata": {
        "id": "p1qOo7vHTP-n",
        "colab": {
          "base_uri": "https://localhost:8080/"
        },
        "outputId": "afaa6e35-dfe8-4d18-c1ca-d5ac004b6e46"
      },
      "outputs": [
        {
          "output_type": "stream",
          "name": "stdout",
          "text": [
            "Data has been saved to /content/drive/My Drive/DNN_Hyperparameter/'20240529_135224_945035'/data_20240529_135419_144636.txt\n",
            "Data has been saved to /content/drive/My Drive/DNN_Hyperparameter/'20240529_135224_945035'/data_20240529_135419_154679.txt\n",
            "Data has been saved to /content/drive/My Drive/DNN_Hyperparameter/'20240529_135224_945035'/data_20240529_135419_182010.txt\n"
          ]
        }
      ],
      "source": [
        "# 예시 데이터\n",
        "selected_label_data = f\" selected label = '{SELECTED_LABEL}'\\n\"\n",
        "formatted_data = f\" normalization = '{NORMALIZATION}'\\n optimizer = '{OPTIMIZER_NAME}'\\n activation function = '{ACTIVATION_FUNCTION}'\\n loss function = '{LOSS_FUNCTION}'\\n train metrics='{PERFORMANCE}'\\n epcohs = '{EPOCHS}'\\n batch size = '{BATCH_SIZE}'\\n lr = '{LEARNING_RATE}'\\n random state = '{RANDOM_STATE}'\\n patience = '{PATIENCE}'\"\n",
        "loss_data = f\" TEST\\n\\n mae loss : '{mae}\\n mse loss : '{mse}'\\n rmse loss : '{rmse}'\\n r2 score loss : '{r2}'\\n\"\n",
        "\n",
        "# 새로운 파일로 데이터 저장\n",
        "save_data_to_file(selected_label_data, folder_path)\n",
        "save_data_to_file(formatted_data, folder_path)\n",
        "save_data_to_file(loss_data, folder_path)\n"
      ]
    }
  ],
  "metadata": {
    "colab": {
      "provenance": [],
      "authorship_tag": "ABX9TyPs15hWEubtK9ZjgaIy4q5t",
      "include_colab_link": true
    },
    "kernelspec": {
      "display_name": "Python 3",
      "name": "python3"
    },
    "language_info": {
      "name": "python"
    }
  },
  "nbformat": 4,
  "nbformat_minor": 0
}